{
 "metadata": {
  "name": "multiprocessing"
 },
 "nbformat": 3,
 "nbformat_minor": 0,
 "worksheets": [
  {
   "cells": [
    {
     "cell_type": "markdown",
     "metadata": {},
     "source": [
      "# Multiprocessing\n",
      "\n",
      "## Basics"
     ]
    },
    {
     "cell_type": "code",
     "collapsed": false,
     "input": [
      "import time\n",
      "import datetime"
     ],
     "language": "python",
     "metadata": {},
     "outputs": [],
     "prompt_number": 1
    },
    {
     "cell_type": "markdown",
     "metadata": {},
     "source": [
      "Define a function that represents some work."
     ]
    },
    {
     "cell_type": "code",
     "collapsed": false,
     "input": [
      "def work(x):\n",
      "    start_time = time.time()\n",
      "    # Our work takes x seconds\n",
      "    time.sleep(x)\n",
      "    end_time = time.time()\n",
      "    return {'start': start_time, 'end_time': end_time}"
     ],
     "language": "python",
     "metadata": {},
     "outputs": [],
     "prompt_number": 3
    },
    {
     "cell_type": "markdown",
     "metadata": {},
     "source": [
      "I want to call this several times."
     ]
    },
    {
     "cell_type": "code",
     "collapsed": false,
     "input": [
      "import numpy as np"
     ],
     "language": "python",
     "metadata": {},
     "outputs": [],
     "prompt_number": 4
    },
    {
     "cell_type": "code",
     "collapsed": false,
     "input": [
      "np.random.seed(1045)\n",
      "job_times = np.random.uniform(0.08, 0.12, 12)\n",
      "job_times"
     ],
     "language": "python",
     "metadata": {},
     "outputs": [
      {
       "output_type": "pyout",
       "prompt_number": 5,
       "text": [
        "array([ 0.11018225,  0.1014037 ,  0.09888686,  0.11039241,  0.11638768,\n",
        "        0.09277434,  0.08017236,  0.10559411,  0.09655754,  0.09319494,\n",
        "        0.08069176,  0.1141882 ])"
       ]
      }
     ],
     "prompt_number": 5
    },
    {
     "cell_type": "markdown",
     "metadata": {},
     "source": [
      "## Iterating\n",
      "\n",
      "###`for`"
     ]
    },
    {
     "cell_type": "code",
     "collapsed": false,
     "input": [
      "results = []\n",
      "for t in job_times:\n",
      "    results.append(work(t))\n",
      "\n",
      "results"
     ],
     "language": "python",
     "metadata": {},
     "outputs": [
      {
       "output_type": "pyout",
       "prompt_number": 6,
       "text": [
        "[{'end_time': 1366293797.804116, 'start': 1366293797.693243},\n",
        " {'end_time': 1366293797.906109, 'start': 1366293797.804119},\n",
        " {'end_time': 1366293798.005102, 'start': 1366293797.906111},\n",
        " {'end_time': 1366293798.116095, 'start': 1366293798.005103},\n",
        " {'end_time': 1366293798.233087, 'start': 1366293798.116096},\n",
        " {'end_time': 1366293798.326081, 'start': 1366293798.233089},\n",
        " {'end_time': 1366293798.40708, 'start': 1366293798.326083},\n",
        " {'end_time': 1366293798.51307, 'start': 1366293798.407084},\n",
        " {'end_time': 1366293798.610063, 'start': 1366293798.513072},\n",
        " {'end_time': 1366293798.704059, 'start': 1366293798.610066},\n",
        " {'end_time': 1366293798.785053, 'start': 1366293798.704063},\n",
        " {'end_time': 1366293798.900046, 'start': 1366293798.785054}]"
       ]
      }
     ],
     "prompt_number": 6
    },
    {
     "cell_type": "markdown",
     "metadata": {},
     "source": [
      "###`map`"
     ]
    },
    {
     "cell_type": "code",
     "collapsed": false,
     "input": [
      "results = map(work, job_times)\n",
      "results"
     ],
     "language": "python",
     "metadata": {},
     "outputs": [
      {
       "output_type": "pyout",
       "prompt_number": 7,
       "text": [
        "[{'end_time': 1366293846.201056, 'start': 1366293846.089965},\n",
        " {'end_time': 1366293846.303049, 'start': 1366293846.201058},\n",
        " {'end_time': 1366293846.402042, 'start': 1366293846.30305},\n",
        " {'end_time': 1366293846.513035, 'start': 1366293846.402043},\n",
        " {'end_time': 1366293846.630027, 'start': 1366293846.513037},\n",
        " {'end_time': 1366293846.723025, 'start': 1366293846.630029},\n",
        " {'end_time': 1366293846.804016, 'start': 1366293846.723028},\n",
        " {'end_time': 1366293846.910011, 'start': 1366293846.804018},\n",
        " {'end_time': 1366293847.007004, 'start': 1366293846.910013},\n",
        " {'end_time': 1366293847.100998, 'start': 1366293847.007006},\n",
        " {'end_time': 1366293847.181994, 'start': 1366293847.100999},\n",
        " {'end_time': 1366293847.296985, 'start': 1366293847.181995}]"
       ]
      }
     ],
     "prompt_number": 7
    },
    {
     "cell_type": "markdown",
     "metadata": {},
     "source": [
      "## Entire program"
     ]
    },
    {
     "cell_type": "code",
     "collapsed": false,
     "input": [
      "tic = time.time()\n",
      "\n",
      "# Create job list\n",
      "np.random.seed(1045)\n",
      "job_times = np.random.uniform(0.8, 1.2, 12)\n",
      "\n",
      "# do something else\n",
      "time.sleep(1)\n",
      "\n",
      "# Call the map function\n",
      "results = map(work, job_times)\n",
      "\n",
      "# Wrap up\n",
      "time.sleep(1)\n",
      "\n",
      "print time.time() - tic"
     ],
     "language": "python",
     "metadata": {},
     "outputs": [
      {
       "output_type": "stream",
       "stream": "stdout",
       "text": [
        "14.0075240135\n"
       ]
      }
     ],
     "prompt_number": 8
    },
    {
     "cell_type": "markdown",
     "metadata": {},
     "source": [
      "Let's speed things up!\n",
      "\n",
      "A quick note: We spent about 12 seconds in the `map` function and 2 seconds elsewhere."
     ]
    },
    {
     "cell_type": "code",
     "collapsed": false,
     "input": [
      "import multiprocessing"
     ],
     "language": "python",
     "metadata": {},
     "outputs": [],
     "prompt_number": 9
    },
    {
     "cell_type": "markdown",
     "metadata": {},
     "source": [
      "Create a group of workers (`Pool`)"
     ]
    },
    {
     "cell_type": "code",
     "collapsed": false,
     "input": [
      "num_cores = multiprocessing.cpu_count()\n",
      "num_cores"
     ],
     "language": "python",
     "metadata": {},
     "outputs": [
      {
       "output_type": "pyout",
       "prompt_number": 10,
       "text": [
        "12"
       ]
      }
     ],
     "prompt_number": 10
    },
    {
     "cell_type": "code",
     "collapsed": false,
     "input": [
      "pool = multiprocessing.Pool(num_cores)"
     ],
     "language": "python",
     "metadata": {},
     "outputs": [],
     "prompt_number": 11
    },
    {
     "cell_type": "code",
     "collapsed": false,
     "input": [
      "tic = time.time()\n",
      "results = pool.map(work,job_times)\n",
      "print time.time() - tic"
     ],
     "language": "python",
     "metadata": {},
     "outputs": [
      {
       "output_type": "stream",
       "stream": "stdout",
       "text": [
        "1.16631388664\n"
       ]
      }
     ],
     "prompt_number": 12
    },
    {
     "cell_type": "markdown",
     "metadata": {},
     "source": [
      "We went from 12 seconds to 1.16 seconds.  \n",
      "\n",
      "How easy was that!\n",
      "\n",
      "- zero installation\n",
      "- Added one `import`\n",
      "- Added two lines of code (which could be one)\n",
      "- Added a `pool` in front of my `map` (which could be a single character)\n",
      "\n",
      "1 import, 1 line, 1 character"
     ]
    },
    {
     "cell_type": "markdown",
     "metadata": {},
     "source": [
      "## Speedup and Efficiency"
     ]
    },
    {
     "cell_type": "code",
     "collapsed": false,
     "input": [
      "import pandas as pd"
     ],
     "language": "python",
     "metadata": {},
     "outputs": [],
     "prompt_number": 13
    },
    {
     "cell_type": "code",
     "collapsed": false,
     "input": [
      "num_processors = np.array([1,2,4,6,12])"
     ],
     "language": "python",
     "metadata": {},
     "outputs": [],
     "prompt_number": 14
    },
    {
     "cell_type": "code",
     "collapsed": false,
     "input": [
      "def measure_time(np):\n",
      "    \n",
      "    tic = time.time()\n",
      "    time.sleep(1)\n",
      "    pool = multiprocessing.Pool(np)\n",
      "    results = pool.map(work,job_times)\n",
      "    time.sleep(1)\n",
      "    return time.time() - tic"
     ],
     "language": "python",
     "metadata": {},
     "outputs": [],
     "prompt_number": 15
    },
    {
     "cell_type": "code",
     "collapsed": false,
     "input": [
      "time = map(measure_time, num_processors)"
     ],
     "language": "python",
     "metadata": {},
     "outputs": [],
     "prompt_number": 16
    },
    {
     "cell_type": "code",
     "collapsed": false,
     "input": [
      "data = pd.DataFrame(time, index=num_processors, columns=['time'])\n",
      "data['time'].plot(figsize=(8.0, 6.0))"
     ],
     "language": "python",
     "metadata": {},
     "outputs": [
      {
       "output_type": "pyout",
       "prompt_number": 24,
       "text": [
        "<matplotlib.axes.AxesSubplot at 0x41e6ad0>"
       ]
      },
      {
       "output_type": "display_data",
       "png": "[encoded data removed]"
      }
     ],
     "prompt_number": 24
    },
    {
     "cell_type": "code",
     "collapsed": false,
     "input": [
      "data"
     ],
     "language": "python",
     "metadata": {},
     "outputs": [
      {
       "html": [
        "<div style=\"max-height:1000px;max-width:1500px;overflow:auto;\">\n",
        "<table border=\"1\" class=\"dataframe\">\n",
        "  <thead>\n",
        "    <tr style=\"text-align: right;\">\n",
        "      <th></th>\n",
        "      <th>time</th>\n",
        "    </tr>\n",
        "  </thead>\n",
        "  <tbody>\n",
        "    <tr>\n",
        "      <th>1 </th>\n",
        "      <td> 14.009648</td>\n",
        "    </tr>\n",
        "    <tr>\n",
        "      <th>2 </th>\n",
        "      <td>  8.139494</td>\n",
        "    </tr>\n",
        "    <tr>\n",
        "      <th>4 </th>\n",
        "      <td>  5.309660</td>\n",
        "    </tr>\n",
        "    <tr>\n",
        "      <th>6 </th>\n",
        "      <td>  4.317720</td>\n",
        "    </tr>\n",
        "    <tr>\n",
        "      <th>12</th>\n",
        "      <td>  3.185784</td>\n",
        "    </tr>\n",
        "  </tbody>\n",
        "</table>\n",
        "</div>"
       ],
       "output_type": "pyout",
       "prompt_number": 18,
       "text": [
        "         time\n",
        "1   14.009648\n",
        "2    8.139494\n",
        "4    5.309660\n",
        "6    4.317720\n",
        "12   3.185784"
       ]
      }
     ],
     "prompt_number": 18
    },
    {
     "cell_type": "markdown",
     "metadata": {},
     "source": [
      "###Speedup\n",
      "\n",
      "speedup = sequential time / parallel time\n",
      "\n"
     ]
    },
    {
     "cell_type": "markdown",
     "metadata": {},
     "source": [
      "Sequential time"
     ]
    },
    {
     "cell_type": "code",
     "collapsed": false,
     "input": [
      "data.ix[1]['time']"
     ],
     "language": "python",
     "metadata": {},
     "outputs": [
      {
       "output_type": "pyout",
       "prompt_number": 19,
       "text": [
        "14.009648084640503"
       ]
      }
     ],
     "prompt_number": 19
    },
    {
     "cell_type": "markdown",
     "metadata": {},
     "source": [
      "Speedup"
     ]
    },
    {
     "cell_type": "code",
     "collapsed": false,
     "input": [
      "data['speedup'] = float(data.ix[1]['time'])/data['time']"
     ],
     "language": "python",
     "metadata": {},
     "outputs": [],
     "prompt_number": 33
    },
    {
     "cell_type": "code",
     "collapsed": false,
     "input": [
      "data['speedup'].plot(figsize=(8.0, 6.0))"
     ],
     "language": "python",
     "metadata": {},
     "outputs": [
      {
       "output_type": "pyout",
       "prompt_number": 34,
       "text": [
        "<matplotlib.axes.AxesSubplot at 0x4925d50>"
       ]
      },
      {
       "output_type": "display_data",
       "png": "[encoded data removed]"
      }
     ],
     "prompt_number": 34
    },
    {
     "cell_type": "markdown",
     "metadata": {},
     "source": [
      "###Efficiency\n",
      "\n",
      "Measures processor utilization\n",
      "\n",
      "efficiency = sequential time / ( number of processors $\\cdot$ parallel time )"
     ]
    },
    {
     "cell_type": "code",
     "collapsed": false,
     "input": [
      "data['efficiency'] = float(data.ix[1]['time'])/(data['time'] * data.index)"
     ],
     "language": "python",
     "metadata": {},
     "outputs": [],
     "prompt_number": 35
    },
    {
     "cell_type": "code",
     "collapsed": false,
     "input": [
      "data['efficiency'].plot(figsize=(8.0, 6.0))"
     ],
     "language": "python",
     "metadata": {},
     "outputs": [
      {
       "output_type": "pyout",
       "prompt_number": 36,
       "text": [
        "<matplotlib.axes.AxesSubplot at 0x4c36c90>"
       ]
      },
      {
       "output_type": "display_data",
       "png": "[encoded data removed]"
      }
     ],
     "prompt_number": 36
    },
    {
     "cell_type": "markdown",
     "metadata": {},
     "source": [
      "Using `12` processors, we are `38%` efficient.\n",
      "\n",
      "- `1` processor is used `100%` of the time\n",
      "- `11` are used about `30%`\n",
      "\n",
      "Is there anything we can do about it?"
     ]
    },
    {
     "cell_type": "markdown",
     "metadata": {},
     "source": [
      "### Karp-Flatt Metric\n",
      "\n",
      "Peformance Categories\n",
      "\n",
      "- Sequential computation\n",
      "- Parallel computation\n",
      "- Parallel overhead\n",
      "\n",
      "The Karp-Flatt metric helps you understand your performance.\n",
      "\n",
      "$\\text{serial fraction} = e = \\frac{(1/s - 1/p)}{(1 - 1/p)}$\n"
     ]
    },
    {
     "cell_type": "code",
     "collapsed": false,
     "input": [
      "data['karpflatt'] = ( 1/data['speedup'] - 1.0/data.index )/(1 - 1.0/data.index)"
     ],
     "language": "python",
     "metadata": {},
     "outputs": [],
     "prompt_number": 37
    },
    {
     "cell_type": "code",
     "collapsed": false,
     "input": [
      "data['karpflatt']"
     ],
     "language": "python",
     "metadata": {},
     "outputs": [
      {
       "output_type": "pyout",
       "prompt_number": 38,
       "text": [
        "1          NaN\n",
        "2     0.161984\n",
        "4     0.172000\n",
        "6     0.169835\n",
        "12    0.157163\n",
        "Name: karpflatt"
       ]
      }
     ],
     "prompt_number": 38
    },
    {
     "cell_type": "markdown",
     "metadata": {},
     "source": [
      "If the *Karp-Flatt* metric returns a non-increasing `serial fraction`, then the poor performance is due to the sequential work the program is doing.\n",
      "\n",
      "If the metric increases, then the poor performance is due to parallel overhead."
     ]
    },
    {
     "cell_type": "markdown",
     "metadata": {},
     "source": [
      "###Create some poor parallel performance\n",
      "\n",
      "Add a penalty for a larger number of cores"
     ]
    },
    {
     "cell_type": "code",
     "collapsed": false,
     "input": [
      "data.index*0.1"
     ],
     "language": "python",
     "metadata": {},
     "outputs": [
      {
       "output_type": "pyout",
       "prompt_number": 40,
       "text": [
        "Int64Index([0.1, 0.2, 0.4, 0.6, 1.2], dtype=int64)"
       ]
      }
     ],
     "prompt_number": 40
    },
    {
     "cell_type": "code",
     "collapsed": false,
     "input": [
      "data['time2'] = data['time'] + data.index*0.1"
     ],
     "language": "python",
     "metadata": {},
     "outputs": [],
     "prompt_number": 41
    },
    {
     "cell_type": "code",
     "collapsed": false,
     "input": [
      "data['speedup2'] = float(data.ix[1]['time2'])/data['time2']\n",
      "data['karpflatt2'] = ( 1/data['speedup2'] - 1.0/data.index )/(1 - 1.0/data.index)"
     ],
     "language": "python",
     "metadata": {},
     "outputs": [],
     "prompt_number": 42
    },
    {
     "cell_type": "code",
     "collapsed": false,
     "input": [
      "print data['time'], '\\n', data['time2']"
     ],
     "language": "python",
     "metadata": {},
     "outputs": [
      {
       "output_type": "stream",
       "stream": "stdout",
       "text": [
        "1     14.009648\n",
        "2      8.139494\n",
        "4      5.309660\n",
        "6      4.317720\n",
        "12     3.185784\n",
        "Name: time \n",
        "1     14.109648\n",
        "2      8.339494\n",
        "4      5.709660\n",
        "6      4.917720\n",
        "12     4.385784\n",
        "Name: time2\n"
       ]
      }
     ],
     "prompt_number": 49
    },
    {
     "cell_type": "code",
     "collapsed": false,
     "input": [
      "data['karpflatt2']"
     ],
     "language": "python",
     "metadata": {},
     "outputs": [
      {
       "output_type": "pyout",
       "prompt_number": 50,
       "text": [
        "1          NaN\n",
        "2     0.182098\n",
        "4     0.206218\n",
        "6     0.218243\n",
        "12    0.248185\n",
        "Name: karpflatt2"
       ]
      }
     ],
     "prompt_number": 50
    },
    {
     "cell_type": "markdown",
     "metadata": {},
     "source": [
      "###Amdahl's Law"
     ]
    },
    {
     "cell_type": "code",
     "collapsed": false,
     "input": [
      "num_processors = np.arange(1,100)"
     ],
     "language": "python",
     "metadata": {},
     "outputs": [],
     "prompt_number": 99
    },
    {
     "cell_type": "code",
     "collapsed": false,
     "input": [
      "num_processors"
     ],
     "language": "python",
     "metadata": {},
     "outputs": [
      {
       "output_type": "pyout",
       "prompt_number": 100,
       "text": [
        "array([ 1,  2,  3,  4,  5,  6,  7,  8,  9, 10, 11, 12, 13, 14, 15, 16, 17,\n",
        "       18, 19, 20, 21, 22, 23, 24, 25, 26, 27, 28, 29, 30, 31, 32, 33, 34,\n",
        "       35, 36, 37, 38, 39, 40, 41, 42, 43, 44, 45, 46, 47, 48, 49, 50, 51,\n",
        "       52, 53, 54, 55, 56, 57, 58, 59, 60, 61, 62, 63, 64, 65, 66, 67, 68,\n",
        "       69, 70, 71, 72, 73, 74, 75, 76, 77, 78, 79, 80, 81, 82, 83, 84, 85,\n",
        "       86, 87, 88, 89, 90, 91, 92, 93, 94, 95, 96, 97, 98, 99])"
       ]
      }
     ],
     "prompt_number": 100
    },
    {
     "cell_type": "code",
     "collapsed": false,
     "input": [
      "ideal = num_processors"
     ],
     "language": "python",
     "metadata": {},
     "outputs": [],
     "prompt_number": 101
    },
    {
     "cell_type": "code",
     "collapsed": false,
     "input": [
      "data = pd.DataFrame(ideal, index=num_processors, columns=['ideal'])\n",
      "data['ideal'].plot(figsize=(8.0, 6.0))"
     ],
     "language": "python",
     "metadata": {},
     "outputs": [
      {
       "output_type": "pyout",
       "prompt_number": 102,
       "text": [
        "<matplotlib.axes.AxesSubplot at 0x7527a50>"
       ]
      },
      {
       "output_type": "display_data",
       "png": "[encoded data removed]"
      }
     ],
     "prompt_number": 102
    },
    {
     "cell_type": "code",
     "collapsed": false,
     "input": [
      "serial_fraction = 0.01\n",
      "data['t1'] = serial_fraction + (1-serial_fraction)/data.index"
     ],
     "language": "python",
     "metadata": {},
     "outputs": [],
     "prompt_number": 103
    },
    {
     "cell_type": "code",
     "collapsed": false,
     "input": [
      "data['t1'].plot()"
     ],
     "language": "python",
     "metadata": {},
     "outputs": [
      {
       "output_type": "pyout",
       "prompt_number": 104,
       "text": [
        "<matplotlib.axes.AxesSubplot at 0x760f850>"
       ]
      },
      {
       "output_type": "display_data",
       "png": "[encoded data removed]"
      }
     ],
     "prompt_number": 104
    },
    {
     "cell_type": "code",
     "collapsed": false,
     "input": [
      "serial_fraction = 0.1\n",
      "data['t2'] = serial_fraction + (1-serial_fraction)/data.index\n",
      "data[['t1','t2']].plot()"
     ],
     "language": "python",
     "metadata": {},
     "outputs": [
      {
       "output_type": "pyout",
       "prompt_number": 105,
       "text": [
        "<matplotlib.axes.AxesSubplot at 0x7969d50>"
       ]
      },
      {
       "output_type": "display_data",
       "png": "[encoded data removed]"
      }
     ],
     "prompt_number": 105
    },
    {
     "cell_type": "markdown",
     "metadata": {},
     "source": [
      "#### Speedup"
     ]
    },
    {
     "cell_type": "code",
     "collapsed": false,
     "input": [
      "data['speedup1'] = float(data.ix[1]['t1'])/data['t1']\n",
      "data['speedup2'] = float(data.ix[1]['t2'])/data['t2']"
     ],
     "language": "python",
     "metadata": {},
     "outputs": [],
     "prompt_number": 109
    },
    {
     "cell_type": "code",
     "collapsed": false,
     "input": [
      "data['speedup2']"
     ],
     "language": "python",
     "metadata": {},
     "outputs": [
      {
       "output_type": "pyout",
       "prompt_number": 111,
       "text": [
        "1     1.000000\n",
        "2     1.818182\n",
        "3     2.500000\n",
        "4     3.076923\n",
        "5     3.571429\n",
        "6     4.000000\n",
        "7     4.375000\n",
        "8     4.705882\n",
        "9     5.000000\n",
        "10    5.263158\n",
        "11    5.500000\n",
        "12    5.714286\n",
        "13    5.909091\n",
        "14    6.086957\n",
        "15    6.250000\n",
        "16    6.400000\n",
        "17    6.538462\n",
        "18    6.666667\n",
        "19    6.785714\n",
        "20    6.896552\n",
        "21    7.000000\n",
        "22    7.096774\n",
        "23    7.187500\n",
        "24    7.272727\n",
        "25    7.352941\n",
        "26    7.428571\n",
        "27    7.500000\n",
        "28    7.567568\n",
        "29    7.631579\n",
        "30    7.692308\n",
        "31    7.750000\n",
        "32    7.804878\n",
        "33    7.857143\n",
        "34    7.906977\n",
        "35    7.954545\n",
        "36    8.000000\n",
        "37    8.043478\n",
        "38    8.085106\n",
        "39    8.125000\n",
        "40    8.163265\n",
        "41    8.200000\n",
        "42    8.235294\n",
        "43    8.269231\n",
        "44    8.301887\n",
        "45    8.333333\n",
        "46    8.363636\n",
        "47    8.392857\n",
        "48    8.421053\n",
        "49    8.448276\n",
        "50    8.474576\n",
        "51    8.500000\n",
        "52    8.524590\n",
        "53    8.548387\n",
        "54    8.571429\n",
        "55    8.593750\n",
        "56    8.615385\n",
        "57    8.636364\n",
        "58    8.656716\n",
        "59    8.676471\n",
        "60    8.695652\n",
        "61    8.714286\n",
        "62    8.732394\n",
        "63    8.750000\n",
        "64    8.767123\n",
        "65    8.783784\n",
        "66    8.800000\n",
        "67    8.815789\n",
        "68    8.831169\n",
        "69    8.846154\n",
        "70    8.860759\n",
        "71    8.875000\n",
        "72    8.888889\n",
        "73    8.902439\n",
        "74    8.915663\n",
        "75    8.928571\n",
        "76    8.941176\n",
        "77    8.953488\n",
        "78    8.965517\n",
        "79    8.977273\n",
        "80    8.988764\n",
        "81    9.000000\n",
        "82    9.010989\n",
        "83    9.021739\n",
        "84    9.032258\n",
        "85    9.042553\n",
        "86    9.052632\n",
        "87    9.062500\n",
        "88    9.072165\n",
        "89    9.081633\n",
        "90    9.090909\n",
        "91    9.100000\n",
        "92    9.108911\n",
        "93    9.117647\n",
        "94    9.126214\n",
        "95    9.134615\n",
        "96    9.142857\n",
        "97    9.150943\n",
        "98    9.158879\n",
        "99    9.166667\n",
        "Name: speedup2, Length: 99"
       ]
      }
     ],
     "prompt_number": 111
    },
    {
     "cell_type": "code",
     "collapsed": false,
     "input": [
      "data[['ideal','speedup1','speedup2']].plot()"
     ],
     "language": "python",
     "metadata": {},
     "outputs": [
      {
       "output_type": "pyout",
       "prompt_number": 107,
       "text": [
        "<matplotlib.axes.AxesSubplot at 0x7a29d50>"
       ]
      },
      {
       "output_type": "display_data",
       "png": "[encoded data removed]"
      }
     ],
     "prompt_number": 107
    },
    {
     "cell_type": "markdown",
     "metadata": {},
     "source": [
      "$T = $ Total time\n",
      "\n",
      "$S = $ Serial fraction\n",
      "\n",
      "$n = $ Number of processors\n",
      "\n",
      "$P = $ Parallel Time $ = (T - S)/n$\n",
      "\n",
      "$Speedup = T / (S + P)$ \n",
      "\n",
      "But, as $n$ gets large, P gets small. \n",
      "\n",
      "$Speedup \\approx T/S$\n",
      "\n",
      "In our example, T = 1.0 and S =  0.01 and 0.1\n",
      "\n",
      "s1 = 1/0.01 = 100x\n",
      "\n",
      "s2 = 1/0.1 = 10x\n"
     ]
    },
    {
     "cell_type": "code",
     "collapsed": false,
     "input": [],
     "language": "python",
     "metadata": {},
     "outputs": []
    }
   ],
   "metadata": {}
  }
 ]
}