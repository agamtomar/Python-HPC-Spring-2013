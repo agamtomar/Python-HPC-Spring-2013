{
 "metadata": {
  "name": "Overview"
 },
 "nbformat": 3,
 "nbformat_minor": 0,
 "worksheets": [
  {
   "cells": [
    {
     "cell_type": "markdown",
     "metadata": {},
     "source": [
      "# Python Time-series Analysis with Pandas\n",
      "\n",
      "## Three parts\n",
      "\n",
      "- Overview\n",
      "- Baby names: are we likely to have more juvenile criminal?\n",
      "- Arrival times: What days and months have the most airline delays at DIA?\n"
     ]
    },
    {
     "cell_type": "markdown",
     "metadata": {},
     "source": [
      "http://www.youtube.com/watch?v=kXEgk1Hdze0"
     ]
    }
   ],
   "metadata": {}
  }
 ]
}