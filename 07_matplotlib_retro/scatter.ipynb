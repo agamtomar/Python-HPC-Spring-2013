{
 "metadata": {
  "name": "scatter"
 },
 "nbformat": 3,
 "nbformat_minor": 0,
 "worksheets": [
  {
   "cells": [
    {
     "cell_type": "markdown",
     "metadata": {},
     "source": [
      "#Scatter\n",
      "\n",
      "## Data"
     ]
    },
    {
     "cell_type": "code",
     "collapsed": false,
     "input": [
      "import os\n",
      "import pandas as pd"
     ],
     "language": "python",
     "metadata": {},
     "outputs": [],
     "prompt_number": 2
    },
    {
     "cell_type": "code",
     "collapsed": false,
     "input": [
      "cars = pd.read_csv(os.path.join('data','cars.csv'))"
     ],
     "language": "python",
     "metadata": {},
     "outputs": [],
     "prompt_number": 3
    },
    {
     "cell_type": "code",
     "collapsed": false,
     "input": [
      "cars.head()"
     ],
     "language": "python",
     "metadata": {},
     "outputs": [
      {
       "html": [
        "<div style=\"max-height:1000px;max-width:1500px;overflow:auto;\">\n",
        "<table border=\"1\" class=\"dataframe\">\n",
        "  <thead>\n",
        "    <tr style=\"text-align: right;\">\n",
        "      <th></th>\n",
        "      <th>type</th>\n",
        "      <th>mpg</th>\n",
        "      <th>cyl</th>\n",
        "      <th>disp</th>\n",
        "      <th>hp</th>\n",
        "      <th>drat</th>\n",
        "      <th>wt</th>\n",
        "      <th>qsec</th>\n",
        "      <th>vs</th>\n",
        "      <th>am</th>\n",
        "      <th>gear</th>\n",
        "      <th>carb</th>\n",
        "    </tr>\n",
        "  </thead>\n",
        "  <tbody>\n",
        "    <tr>\n",
        "      <th>0</th>\n",
        "      <td>         MazdaRX4</td>\n",
        "      <td> 21.0</td>\n",
        "      <td> 6</td>\n",
        "      <td> 160</td>\n",
        "      <td> 110</td>\n",
        "      <td> 3.90</td>\n",
        "      <td> 2.620</td>\n",
        "      <td> 16.46</td>\n",
        "      <td> 0</td>\n",
        "      <td> 1</td>\n",
        "      <td> 4</td>\n",
        "      <td> 4</td>\n",
        "    </tr>\n",
        "    <tr>\n",
        "      <th>1</th>\n",
        "      <td>      MazdaRX4Wag</td>\n",
        "      <td> 21.0</td>\n",
        "      <td> 6</td>\n",
        "      <td> 160</td>\n",
        "      <td> 110</td>\n",
        "      <td> 3.90</td>\n",
        "      <td> 2.875</td>\n",
        "      <td> 17.02</td>\n",
        "      <td> 0</td>\n",
        "      <td> 1</td>\n",
        "      <td> 4</td>\n",
        "      <td> 4</td>\n",
        "    </tr>\n",
        "    <tr>\n",
        "      <th>2</th>\n",
        "      <td>        Datsun710</td>\n",
        "      <td> 22.8</td>\n",
        "      <td> 4</td>\n",
        "      <td> 108</td>\n",
        "      <td>  93</td>\n",
        "      <td> 3.85</td>\n",
        "      <td> 2.320</td>\n",
        "      <td> 18.61</td>\n",
        "      <td> 1</td>\n",
        "      <td> 1</td>\n",
        "      <td> 4</td>\n",
        "      <td> 1</td>\n",
        "    </tr>\n",
        "    <tr>\n",
        "      <th>3</th>\n",
        "      <td>     Hornet4Drive</td>\n",
        "      <td> 21.4</td>\n",
        "      <td> 6</td>\n",
        "      <td> 258</td>\n",
        "      <td> 110</td>\n",
        "      <td> 3.08</td>\n",
        "      <td> 3.215</td>\n",
        "      <td> 19.44</td>\n",
        "      <td> 1</td>\n",
        "      <td> 0</td>\n",
        "      <td> 3</td>\n",
        "      <td> 1</td>\n",
        "    </tr>\n",
        "    <tr>\n",
        "      <th>4</th>\n",
        "      <td> HornetSportabout</td>\n",
        "      <td> 18.7</td>\n",
        "      <td> 8</td>\n",
        "      <td> 360</td>\n",
        "      <td> 175</td>\n",
        "      <td> 3.15</td>\n",
        "      <td> 3.440</td>\n",
        "      <td> 17.02</td>\n",
        "      <td> 0</td>\n",
        "      <td> 0</td>\n",
        "      <td> 3</td>\n",
        "      <td> 2</td>\n",
        "    </tr>\n",
        "  </tbody>\n",
        "</table>\n",
        "</div>"
       ],
       "output_type": "pyout",
       "prompt_number": 4,
       "text": [
        "               type   mpg  cyl  disp   hp  drat     wt   qsec  vs  am  gear  carb\n",
        "0          MazdaRX4  21.0    6   160  110  3.90  2.620  16.46   0   1     4     4\n",
        "1       MazdaRX4Wag  21.0    6   160  110  3.90  2.875  17.02   0   1     4     4\n",
        "2         Datsun710  22.8    4   108   93  3.85  2.320  18.61   1   1     4     1\n",
        "3      Hornet4Drive  21.4    6   258  110  3.08  3.215  19.44   1   0     3     1\n",
        "4  HornetSportabout  18.7    8   360  175  3.15  3.440  17.02   0   0     3     2"
       ]
      }
     ],
     "prompt_number": 4
    },
    {
     "cell_type": "markdown",
     "metadata": {},
     "source": [
      "##Plot weight vs mpg"
     ]
    },
    {
     "cell_type": "code",
     "collapsed": false,
     "input": [
      "import matplotlib.pyplot as plt\n",
      "\n",
      "fig, ax = plt.subplots()\n",
      "ax.scatter(cars['wt'], cars['mpg'])"
     ],
     "language": "python",
     "metadata": {},
     "outputs": [
      {
       "output_type": "pyout",
       "prompt_number": 5,
       "text": [
        "<matplotlib.collections.PathCollection at 0x106a10950>"
       ]
      },
      {
       "output_type": "display_data",
       "png": "[encoded data removed]"
      }
     ],
     "prompt_number": 5
    },
    {
     "cell_type": "markdown",
     "metadata": {},
     "source": [
      "## Adding cylinder color"
     ]
    },
    {
     "cell_type": "code",
     "collapsed": false,
     "input": [
      "c4 = cars[cars['cyl'] == 4]\n",
      "c6 = cars[cars['cyl'] == 6]\n",
      "c8 = cars[cars['cyl'] == 8]"
     ],
     "language": "python",
     "metadata": {},
     "outputs": [],
     "prompt_number": 6
    },
    {
     "cell_type": "code",
     "collapsed": false,
     "input": [
      "c4.head()"
     ],
     "language": "python",
     "metadata": {},
     "outputs": [
      {
       "html": [
        "<div style=\"max-height:1000px;max-width:1500px;overflow:auto;\">\n",
        "<table border=\"1\" class=\"dataframe\">\n",
        "  <thead>\n",
        "    <tr style=\"text-align: right;\">\n",
        "      <th></th>\n",
        "      <th>type</th>\n",
        "      <th>mpg</th>\n",
        "      <th>cyl</th>\n",
        "      <th>disp</th>\n",
        "      <th>hp</th>\n",
        "      <th>drat</th>\n",
        "      <th>wt</th>\n",
        "      <th>qsec</th>\n",
        "      <th>vs</th>\n",
        "      <th>am</th>\n",
        "      <th>gear</th>\n",
        "      <th>carb</th>\n",
        "    </tr>\n",
        "  </thead>\n",
        "  <tbody>\n",
        "    <tr>\n",
        "      <th>2 </th>\n",
        "      <td>  Datsun710</td>\n",
        "      <td> 22.8</td>\n",
        "      <td> 4</td>\n",
        "      <td> 108.0</td>\n",
        "      <td> 93</td>\n",
        "      <td> 3.85</td>\n",
        "      <td> 2.320</td>\n",
        "      <td> 18.61</td>\n",
        "      <td> 1</td>\n",
        "      <td> 1</td>\n",
        "      <td> 4</td>\n",
        "      <td> 1</td>\n",
        "    </tr>\n",
        "    <tr>\n",
        "      <th>7 </th>\n",
        "      <td>   Merc240D</td>\n",
        "      <td> 24.4</td>\n",
        "      <td> 4</td>\n",
        "      <td> 146.7</td>\n",
        "      <td> 62</td>\n",
        "      <td> 3.69</td>\n",
        "      <td> 3.190</td>\n",
        "      <td> 20.00</td>\n",
        "      <td> 1</td>\n",
        "      <td> 0</td>\n",
        "      <td> 4</td>\n",
        "      <td> 2</td>\n",
        "    </tr>\n",
        "    <tr>\n",
        "      <th>8 </th>\n",
        "      <td>    Merc230</td>\n",
        "      <td> 22.8</td>\n",
        "      <td> 4</td>\n",
        "      <td> 140.8</td>\n",
        "      <td> 95</td>\n",
        "      <td> 3.92</td>\n",
        "      <td> 3.150</td>\n",
        "      <td> 22.90</td>\n",
        "      <td> 1</td>\n",
        "      <td> 0</td>\n",
        "      <td> 4</td>\n",
        "      <td> 2</td>\n",
        "    </tr>\n",
        "    <tr>\n",
        "      <th>17</th>\n",
        "      <td>    Fiat128</td>\n",
        "      <td> 32.4</td>\n",
        "      <td> 4</td>\n",
        "      <td>  78.7</td>\n",
        "      <td> 66</td>\n",
        "      <td> 4.08</td>\n",
        "      <td> 2.200</td>\n",
        "      <td> 19.47</td>\n",
        "      <td> 1</td>\n",
        "      <td> 1</td>\n",
        "      <td> 4</td>\n",
        "      <td> 1</td>\n",
        "    </tr>\n",
        "    <tr>\n",
        "      <th>18</th>\n",
        "      <td> HondaCivic</td>\n",
        "      <td> 30.4</td>\n",
        "      <td> 4</td>\n",
        "      <td>  75.7</td>\n",
        "      <td> 52</td>\n",
        "      <td> 4.93</td>\n",
        "      <td> 1.615</td>\n",
        "      <td> 18.52</td>\n",
        "      <td> 1</td>\n",
        "      <td> 1</td>\n",
        "      <td> 4</td>\n",
        "      <td> 2</td>\n",
        "    </tr>\n",
        "  </tbody>\n",
        "</table>\n",
        "</div>"
       ],
       "output_type": "pyout",
       "prompt_number": 7,
       "text": [
        "          type   mpg  cyl   disp  hp  drat     wt   qsec  vs  am  gear  carb\n",
        "2    Datsun710  22.8    4  108.0  93  3.85  2.320  18.61   1   1     4     1\n",
        "7     Merc240D  24.4    4  146.7  62  3.69  3.190  20.00   1   0     4     2\n",
        "8      Merc230  22.8    4  140.8  95  3.92  3.150  22.90   1   0     4     2\n",
        "17     Fiat128  32.4    4   78.7  66  4.08  2.200  19.47   1   1     4     1\n",
        "18  HondaCivic  30.4    4   75.7  52  4.93  1.615  18.52   1   1     4     2"
       ]
      }
     ],
     "prompt_number": 7
    },
    {
     "cell_type": "code",
     "collapsed": false,
     "input": [
      "fig, ax = plt.subplots(1,3)\n",
      "\n",
      "ax[0].scatter(c4['wt'], c4['mpg'], c='green')\n",
      "ax[1].scatter(c6['wt'], c6['mpg'], c='blue')\n",
      "ax[2].scatter(c8['wt'], c8['mpg'], c='red')"
     ],
     "language": "python",
     "metadata": {},
     "outputs": [
      {
       "output_type": "pyout",
       "prompt_number": 11,
       "text": [
        "<matplotlib.collections.PathCollection at 0x10703f2d0>"
       ]
      },
      {
       "output_type": "display_data",
       "png": "[encoded data removed]"
      }
     ],
     "prompt_number": 11
    },
    {
     "cell_type": "markdown",
     "metadata": {},
     "source": [
      "## Style\n",
      "\n",
      "http://ggplot2.org/\n",
      "\n",
      "<img src='files/img/ggplot.png'>\n",
      "\n",
      "http://colorbrewer2.org/\n"
     ]
    },
    {
     "cell_type": "code",
     "collapsed": false,
     "input": [
      "from matplotlib import spines\n",
      "\n",
      "fig, ax = plt.subplots()\n",
      "\n",
      "ax.scatter(c4['wt'], c4['mpg'], s=50, c='#FF7F00', edgecolors='none')\n",
      "ax.scatter(c6['wt'], c6['mpg'], s=50, c='#4DAF4A', edgecolors='none')\n",
      "ax.scatter(c8['wt'], c8['mpg'], s=50, c='#377EB8', edgecolors='none')\n",
      "\n",
      "ax.set_xlabel('wt')\n",
      "ax.set_ylabel('mpg')\n",
      "\n",
      "# Background color\n",
      "ax.patch.set_facecolor('0.85')\n",
      "ax.grid(True, 'major', color='w', linestyle='-', linewidth=1.4)\n",
      "ax.grid(True, 'minor', color='0.92', linestyle='-', linewidth=0.5)\n",
      "   \n",
      "ax.set_axisbelow(True)\n",
      "\n",
      "#remove axis border\n",
      "for child in ax.get_children():\n",
      "    if isinstance(child, spines.Spine):\n",
      "        child.set_alpha(0)\n",
      "\n",
      "#restyle the tick lines\n",
      "for line in ax.get_xticklines() + ax.get_yticklines():\n",
      "    line.set_markersize(5)\n",
      "    line.set_color(\"white\")\n",
      "    line.set_markeredgewidth(1.4)       \n",
      "    \n",
      "#set minor tick spacing to 1/2 of the major ticks\n",
      "ax.xaxis.set_minor_locator(plt.MultipleLocator( (plt.xticks()[0][1]-plt.xticks()[0][0]) / 2.0 ))\n",
      "ax.yaxis.set_minor_locator(plt.MultipleLocator( (plt.yticks()[0][1]-plt.yticks()[0][0]) / 2.0 ))\n",
      "      \n",
      "for line in ax.xaxis.get_ticklines(minor=True) + ax.yaxis.get_ticklines(minor=True):\n",
      "    line.set_markersize(0)   \n",
      "    \n",
      "  "
     ],
     "language": "python",
     "metadata": {},
     "outputs": [
      {
       "output_type": "display_data",
       "png": "[encoded data removed]"
      }
     ],
     "prompt_number": 12
    },
    {
     "cell_type": "markdown",
     "metadata": {},
     "source": [
      "##Object-oriented design\n",
      "\n",
      "Everything we did was on the `ax` object.  We can create a function to transform all our graphs to this and other options!"
     ]
    },
    {
     "cell_type": "code",
     "collapsed": false,
     "input": [
      "def ggplot(ax):\n",
      "    \n",
      "    # Background color\n",
      "    ax.patch.set_facecolor('0.85')\n",
      "    ax.grid(True, 'major', color='w', linestyle='-', linewidth=1.4)\n",
      "    ax.grid(True, 'minor', color='0.92', linestyle='-', linewidth=0.5)\n",
      "   \n",
      "    ax.set_axisbelow(True)\n",
      "\n",
      "    #remove axis border\n",
      "    for child in ax.get_children():\n",
      "        if isinstance(child, spines.Spine):\n",
      "            child.set_alpha(0)\n",
      "    \n",
      "    #restyle the tick lines\n",
      "    for line in ax.get_xticklines() + ax.get_yticklines():\n",
      "        line.set_markersize(5)\n",
      "        line.set_color(\"white\")\n",
      "        line.set_markeredgewidth(1.4)       \n",
      "    \n",
      "    #set minor tick spacing to 1/2 of the major ticks\n",
      "    ax.xaxis.set_minor_locator(plt.MultipleLocator( (plt.xticks()[0][1]-plt.xticks()[0][0]) / 2.0 ))\n",
      "    ax.yaxis.set_minor_locator(plt.MultipleLocator( (plt.yticks()[0][1]-plt.yticks()[0][0]) / 2.0 ))\n",
      "      \n",
      "    for line in ax.xaxis.get_ticklines(minor=True) + ax.yaxis.get_ticklines(minor=True):\n",
      "        line.set_markersize(0)   \n",
      "        \n",
      "    if ax.legend_ <> None:\n",
      "        lg = ax.legend_\n",
      "        lg.get_frame().set_linewidth(0)\n",
      "        lg.get_frame().set_alpha(0.5)\n",
      "        "
     ],
     "language": "python",
     "metadata": {},
     "outputs": [],
     "prompt_number": 17
    },
    {
     "cell_type": "code",
     "collapsed": false,
     "input": [
      "fig, ax = plt.subplots()\n",
      "\n",
      "ax.scatter(c4['wt'], c4['mpg'], s=50, c='#FF7F00', edgecolors='none', label='4 cyl')\n",
      "ax.scatter(c6['wt'], c6['mpg'], s=50, c='#4DAF4A', edgecolors='none', label='6 cyl')\n",
      "ax.scatter(c8['wt'], c8['mpg'], s=50, c='#377EB8', edgecolors='none', label='8 cyl')\n",
      "\n",
      "ax.set_xlabel('wt')\n",
      "ax.set_ylabel('mpg')\n",
      "\n",
      "ax.legend(loc='best', scatterpoints=1)\n",
      "\n",
      "ggplot(ax)"
     ],
     "language": "python",
     "metadata": {},
     "outputs": [
      {
       "output_type": "display_data",
       "png": "[encoded data removed]"
      }
     ],
     "prompt_number": 18
    },
    {
     "cell_type": "code",
     "collapsed": false,
     "input": [],
     "language": "python",
     "metadata": {},
     "outputs": []
    }
   ],
   "metadata": {}
  }
 ]
}