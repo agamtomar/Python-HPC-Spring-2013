{
 "metadata": {
  "name": "box"
 },
 "nbformat": 3,
 "nbformat_minor": 0,
 "worksheets": [
  {
   "cells": [
    {
     "cell_type": "markdown",
     "metadata": {},
     "source": [
      "#Boxplots"
     ]
    },
    {
     "cell_type": "code",
     "collapsed": false,
     "input": [
      "import matplotlib.pyplot as plt\n",
      "import pandas as pd\n",
      "import os\n",
      "import style"
     ],
     "language": "python",
     "metadata": {},
     "outputs": [
      {
       "output_type": "stream",
       "stream": "stderr",
       "text": [
        "/Users/mlunacek/anaconda/lib/python2.7/site-packages/pytz/__init__.py:35: UserWarning: Module argparse was already imported from /Users/mlunacek/anaconda/lib/python2.7/argparse.pyc, but /Users/mlunacek/anaconda/lib/python2.7/site-packages is being added to sys.path\n",
        "  from pkg_resources import resource_stream\n"
       ]
      }
     ],
     "prompt_number": 1
    },
    {
     "cell_type": "code",
     "collapsed": false,
     "input": [
      "cars = pd.read_csv(os.path.join('data','cars.csv'))\n",
      "c4 = cars[cars['cyl'] == 4]['mpg']\n",
      "c6 = cars[cars['cyl'] == 6]['mpg']\n",
      "c8 = cars[cars['cyl'] == 8]['mpg']"
     ],
     "language": "python",
     "metadata": {},
     "outputs": [],
     "prompt_number": 2
    },
    {
     "cell_type": "code",
     "collapsed": false,
     "input": [
      "data = [c4,c6,c8]"
     ],
     "language": "python",
     "metadata": {},
     "outputs": [],
     "prompt_number": 3
    },
    {
     "cell_type": "code",
     "collapsed": false,
     "input": [
      "fig, ax = plt.subplots()\n",
      "\n",
      "bp = ax.boxplot(data, widths=0.65)\n"
     ],
     "language": "python",
     "metadata": {},
     "outputs": [
      {
       "output_type": "display_data",
       "png": "[encoded data removed]"
      }
     ],
     "prompt_number": 4
    },
    {
     "cell_type": "markdown",
     "metadata": {},
     "source": [
      "##Style"
     ]
    },
    {
     "cell_type": "code",
     "collapsed": false,
     "input": [
      "fig, ax = plt.subplots()\n",
      "\n",
      "bp = ax.boxplot(data, widths=0.65)\n",
      "\n",
      "plt.setp(bp['boxes'], color='black')\n",
      "plt.setp(bp['whiskers'], color='black', linestyle = 'solid')\n",
      "plt.setp(bp['fliers'], color='black', alpha = 0.9, marker= 'o', markersize = 3)\n",
      "plt.setp(bp['medians'], color='black')\n",
      "plt.setp(ax, xticklabels=['c4','c6','c8'] )\n",
      "\n",
      "#style.ggplot(ax)"
     ],
     "language": "python",
     "metadata": {},
     "outputs": [
      {
       "output_type": "pyout",
       "prompt_number": 5,
       "text": [
        "[<matplotlib.text.Text at 0x107ea5450>,\n",
        " <matplotlib.text.Text at 0x107e3e310>,\n",
        " <matplotlib.text.Text at 0x107ed2190>]"
       ]
      },
      {
       "output_type": "display_data",
       "png": "[encoded data removed]"
      }
     ],
     "prompt_number": 5
    },
    {
     "cell_type": "markdown",
     "metadata": {},
     "source": [
      "## Fill in the boxes"
     ]
    },
    {
     "cell_type": "code",
     "collapsed": false,
     "input": [
      "fig, ax = plt.subplots()\n",
      "\n",
      "bp = ax.boxplot(data, widths=0.65)\n",
      "\n",
      "plt.setp(bp['boxes'], color='black')\n",
      "plt.setp(bp['whiskers'], color='black', linestyle = 'solid')\n",
      "plt.setp(bp['fliers'], color='black', alpha = 0.9, marker= 'o', markersize = 3)\n",
      "plt.setp(bp['medians'], color='black')\n",
      "plt.setp(ax, xticklabels=['c4','c6','c8'] )\n",
      "\n",
      "# Box colors\n",
      "colors = ['#1B9E77','#D95F02','#7570B3']\n",
      "numBoxes = len(data)\n",
      "for i in range(numBoxes):\n",
      "    box = bp['boxes'][i]\n",
      "    boxX = []\n",
      "    boxY = []\n",
      "    for j in range(5):\n",
      "        boxX.append(box.get_xdata()[j])\n",
      "        boxY.append(box.get_ydata()[j])\n",
      "    boxCoords = zip(boxX,boxY)\n",
      "\n",
      "    boxPolygon = Polygon(boxCoords, facecolor = colors[i % len(colors)], alpha=0.75)\n",
      "    ax.add_patch(boxPolygon)\n",
      "\n",
      "style.ggplot(ax)"
     ],
     "language": "python",
     "metadata": {},
     "outputs": [
      {
       "output_type": "display_data",
       "png": "[encoded data removed]"
      }
     ],
     "prompt_number": 6
    },
    {
     "cell_type": "code",
     "collapsed": false,
     "input": [],
     "language": "python",
     "metadata": {},
     "outputs": [],
     "prompt_number": 6
    }
   ],
   "metadata": {}
  }
 ]
}