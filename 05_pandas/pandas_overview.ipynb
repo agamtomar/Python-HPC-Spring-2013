{
 "metadata": {
  "name": "pandas_overview"
 },
 "nbformat": 3,
 "nbformat_minor": 0,
 "worksheets": [
  {
   "cells": [
    {
     "cell_type": "markdown",
     "metadata": {},
     "source": [
      "#Pandas\n",
      "\n",
      "* Efficient data structures\n",
      "* Indexing data\n",
      "* Merging and joining data\n",
      "* Aggregation (e.g. group by and pivot tables)\n",
      "* Deal with missing values\n",
      "* Plotting\n"
     ]
    },
    {
     "cell_type": "code",
     "collapsed": false,
     "input": [
      "import os\n",
      "import pandas as pd\n",
      "import numpy as np"
     ],
     "language": "python",
     "metadata": {},
     "outputs": [],
     "prompt_number": 1
    },
    {
     "cell_type": "markdown",
     "metadata": {},
     "source": [
      "## Introduction to Data Structures\n",
      "\n",
      "* Series\n",
      "* Data Frame\n",
      "\n",
      "### Series"
     ]
    },
    {
     "cell_type": "code",
     "collapsed": false,
     "input": [
      "l = [4,7,-5,3]\n",
      "series = pd.Series(l)\n",
      "series"
     ],
     "language": "python",
     "metadata": {},
     "outputs": [
      {
       "output_type": "pyout",
       "prompt_number": 84,
       "text": [
        "0    4\n",
        "1    7\n",
        "2   -5\n",
        "3    3"
       ]
      }
     ],
     "prompt_number": 84
    },
    {
     "cell_type": "code",
     "collapsed": false,
     "input": [
      "series.values"
     ],
     "language": "python",
     "metadata": {},
     "outputs": [
      {
       "output_type": "pyout",
       "prompt_number": 85,
       "text": [
        "array([ 4,  7, -5,  3])"
       ]
      }
     ],
     "prompt_number": 85
    },
    {
     "cell_type": "code",
     "collapsed": false,
     "input": [
      "series.index"
     ],
     "language": "python",
     "metadata": {},
     "outputs": [
      {
       "output_type": "pyout",
       "prompt_number": 86,
       "text": [
        "Int64Index([0, 1, 2, 3], dtype=int64)"
       ]
      }
     ],
     "prompt_number": 86
    },
    {
     "cell_type": "code",
     "collapsed": false,
     "input": [
      "series = pd.Series(l, index=['d','a','c','b'])\n",
      "series"
     ],
     "language": "python",
     "metadata": {},
     "outputs": [
      {
       "output_type": "pyout",
       "prompt_number": 87,
       "text": [
        "d    4\n",
        "a    7\n",
        "c   -5\n",
        "b    3"
       ]
      }
     ],
     "prompt_number": 87
    },
    {
     "cell_type": "code",
     "collapsed": false,
     "input": [
      "series['b']"
     ],
     "language": "python",
     "metadata": {},
     "outputs": [
      {
       "output_type": "pyout",
       "prompt_number": 88,
       "text": [
        "3"
       ]
      }
     ],
     "prompt_number": 88
    },
    {
     "cell_type": "code",
     "collapsed": false,
     "input": [
      "'b' in series"
     ],
     "language": "python",
     "metadata": {},
     "outputs": [
      {
       "output_type": "pyout",
       "prompt_number": 89,
       "text": [
        "True"
       ]
      }
     ],
     "prompt_number": 89
    },
    {
     "cell_type": "markdown",
     "metadata": {},
     "source": [
      "###Data Frame\n",
      "* Think spreadsheet or table\n",
      "* High performance"
     ]
    },
    {
     "cell_type": "code",
     "collapsed": false,
     "input": [
      "dic = {'one' : np.random.random(5), 'two' : np.random.random(5)}\n",
      "df = pd.DataFrame(dic)\n",
      "df"
     ],
     "language": "python",
     "metadata": {},
     "outputs": [
      {
       "html": [
        "<div style=\"max-height:1000px;max-width:1500px;overflow:auto;\">\n",
        "<table border=\"1\" class=\"dataframe\">\n",
        "  <thead>\n",
        "    <tr style=\"text-align: right;\">\n",
        "      <th></th>\n",
        "      <th>one</th>\n",
        "      <th>two</th>\n",
        "    </tr>\n",
        "  </thead>\n",
        "  <tbody>\n",
        "    <tr>\n",
        "      <th>0</th>\n",
        "      <td> 0.772722</td>\n",
        "      <td> 0.221313</td>\n",
        "    </tr>\n",
        "    <tr>\n",
        "      <th>1</th>\n",
        "      <td> 0.689416</td>\n",
        "      <td> 0.597287</td>\n",
        "    </tr>\n",
        "    <tr>\n",
        "      <th>2</th>\n",
        "      <td> 0.724731</td>\n",
        "      <td> 0.114417</td>\n",
        "    </tr>\n",
        "    <tr>\n",
        "      <th>3</th>\n",
        "      <td> 0.162138</td>\n",
        "      <td> 0.708794</td>\n",
        "    </tr>\n",
        "    <tr>\n",
        "      <th>4</th>\n",
        "      <td> 0.239536</td>\n",
        "      <td> 0.156512</td>\n",
        "    </tr>\n",
        "  </tbody>\n",
        "</table>\n",
        "</div>"
       ],
       "output_type": "pyout",
       "prompt_number": 2,
       "text": [
        "        one       two\n",
        "0  0.772722  0.221313\n",
        "1  0.689416  0.597287\n",
        "2  0.724731  0.114417\n",
        "3  0.162138  0.708794\n",
        "4  0.239536  0.156512"
       ]
      }
     ],
     "prompt_number": 2
    },
    {
     "cell_type": "markdown",
     "metadata": {},
     "source": [
      "A column is retrieved as a Series or dictionary notation."
     ]
    },
    {
     "cell_type": "code",
     "collapsed": false,
     "input": [
      "df.one"
     ],
     "language": "python",
     "metadata": {},
     "outputs": [
      {
       "output_type": "pyout",
       "prompt_number": 91,
       "text": [
        "0    0.560945\n",
        "1    0.427332\n",
        "2    0.765518\n",
        "3    0.718823\n",
        "4    0.162510\n",
        "Name: one"
       ]
      }
     ],
     "prompt_number": 91
    },
    {
     "cell_type": "code",
     "collapsed": false,
     "input": [
      "df['two']"
     ],
     "language": "python",
     "metadata": {},
     "outputs": [
      {
       "output_type": "pyout",
       "prompt_number": 92,
       "text": [
        "0    0.009510\n",
        "1    0.752622\n",
        "2    0.706758\n",
        "3    0.450330\n",
        "4    0.260471\n",
        "Name: two"
       ]
      }
     ],
     "prompt_number": 92
    },
    {
     "cell_type": "markdown",
     "metadata": {},
     "source": [
      "Rows can be retrieved using index position (here) or named index"
     ]
    },
    {
     "cell_type": "code",
     "collapsed": false,
     "input": [
      "df.ix[2]"
     ],
     "language": "python",
     "metadata": {},
     "outputs": [
      {
       "output_type": "pyout",
       "prompt_number": 3,
       "text": [
        "one    0.724731\n",
        "two    0.114417\n",
        "Name: 2"
       ]
      }
     ],
     "prompt_number": 3
    },
    {
     "cell_type": "markdown",
     "metadata": {},
     "source": [
      "##Essential Functions\n",
      "###Reindexing"
     ]
    },
    {
     "cell_type": "code",
     "collapsed": false,
     "input": [
      "df.index"
     ],
     "language": "python",
     "metadata": {},
     "outputs": [
      {
       "output_type": "pyout",
       "prompt_number": 4,
       "text": [
        "Int64Index([0, 1, 2, 3, 4], dtype=int64)"
       ]
      }
     ],
     "prompt_number": 4
    },
    {
     "cell_type": "code",
     "collapsed": false,
     "input": [
      "df = df.reindex([2,3,4,5,1])\n",
      "df"
     ],
     "language": "python",
     "metadata": {},
     "outputs": [
      {
       "html": [
        "<div style=\"max-height:1000px;max-width:1500px;overflow:auto;\">\n",
        "<table border=\"1\" class=\"dataframe\">\n",
        "  <thead>\n",
        "    <tr style=\"text-align: right;\">\n",
        "      <th></th>\n",
        "      <th>one</th>\n",
        "      <th>two</th>\n",
        "    </tr>\n",
        "  </thead>\n",
        "  <tbody>\n",
        "    <tr>\n",
        "      <th>2</th>\n",
        "      <td> 0.724731</td>\n",
        "      <td> 0.114417</td>\n",
        "    </tr>\n",
        "    <tr>\n",
        "      <th>3</th>\n",
        "      <td> 0.162138</td>\n",
        "      <td> 0.708794</td>\n",
        "    </tr>\n",
        "    <tr>\n",
        "      <th>4</th>\n",
        "      <td> 0.239536</td>\n",
        "      <td> 0.156512</td>\n",
        "    </tr>\n",
        "    <tr>\n",
        "      <th>5</th>\n",
        "      <td>      NaN</td>\n",
        "      <td>      NaN</td>\n",
        "    </tr>\n",
        "    <tr>\n",
        "      <th>1</th>\n",
        "      <td> 0.689416</td>\n",
        "      <td> 0.597287</td>\n",
        "    </tr>\n",
        "  </tbody>\n",
        "</table>\n",
        "</div>"
       ],
       "output_type": "pyout",
       "prompt_number": 5,
       "text": [
        "        one       two\n",
        "2  0.724731  0.114417\n",
        "3  0.162138  0.708794\n",
        "4  0.239536  0.156512\n",
        "5       NaN       NaN\n",
        "1  0.689416  0.597287"
       ]
      }
     ],
     "prompt_number": 5
    },
    {
     "cell_type": "markdown",
     "metadata": {},
     "source": [
      "###Indexing, selecting, filtering"
     ]
    },
    {
     "cell_type": "code",
     "collapsed": false,
     "input": [
      "print df[ df['one'] < 0.4 ]"
     ],
     "language": "python",
     "metadata": {},
     "outputs": [
      {
       "output_type": "stream",
       "stream": "stdout",
       "text": [
        "        one       two\n",
        "3  0.162138  0.708794\n",
        "4  0.239536  0.156512\n"
       ]
      }
     ],
     "prompt_number": 6
    },
    {
     "cell_type": "code",
     "collapsed": false,
     "input": [
      "df[ df['one'] > 0.5 ] = 1.0\n",
      "print df"
     ],
     "language": "python",
     "metadata": {},
     "outputs": [
      {
       "output_type": "stream",
       "stream": "stdout",
       "text": [
        "        one       two\n",
        "2  1.000000  1.000000\n",
        "3  0.162138  0.708794\n",
        "4  0.239536  0.156512\n",
        "5       NaN       NaN\n",
        "1  1.000000  1.000000\n"
       ]
      }
     ],
     "prompt_number": 7
    },
    {
     "cell_type": "markdown",
     "metadata": {},
     "source": [
      "###Sorting and Ranking"
     ]
    },
    {
     "cell_type": "code",
     "collapsed": false,
     "input": [
      "df = df.sort_index()\n",
      "df.head()"
     ],
     "language": "python",
     "metadata": {},
     "outputs": [
      {
       "html": [
        "<div style=\"max-height:1000px;max-width:1500px;overflow:auto;\">\n",
        "<table border=\"1\" class=\"dataframe\">\n",
        "  <thead>\n",
        "    <tr style=\"text-align: right;\">\n",
        "      <th></th>\n",
        "      <th>one</th>\n",
        "      <th>two</th>\n",
        "    </tr>\n",
        "  </thead>\n",
        "  <tbody>\n",
        "    <tr>\n",
        "      <th>1</th>\n",
        "      <td> 0.427332</td>\n",
        "      <td> 0.752622</td>\n",
        "    </tr>\n",
        "    <tr>\n",
        "      <th>2</th>\n",
        "      <td> 1.000000</td>\n",
        "      <td> 1.000000</td>\n",
        "    </tr>\n",
        "    <tr>\n",
        "      <th>3</th>\n",
        "      <td> 1.000000</td>\n",
        "      <td> 1.000000</td>\n",
        "    </tr>\n",
        "    <tr>\n",
        "      <th>4</th>\n",
        "      <td> 0.162510</td>\n",
        "      <td> 0.260471</td>\n",
        "    </tr>\n",
        "    <tr>\n",
        "      <th>5</th>\n",
        "      <td>      NaN</td>\n",
        "      <td>      NaN</td>\n",
        "    </tr>\n",
        "  </tbody>\n",
        "</table>\n",
        "</div>"
       ],
       "output_type": "pyout",
       "prompt_number": 98,
       "text": [
        "        one       two\n",
        "1  0.427332  0.752622\n",
        "2  1.000000  1.000000\n",
        "3  1.000000  1.000000\n",
        "4  0.162510  0.260471\n",
        "5       NaN       NaN"
       ]
      }
     ],
     "prompt_number": 98
    },
    {
     "cell_type": "code",
     "collapsed": false,
     "input": [
      "df = df.sort_index(ascending=False)\n",
      "df"
     ],
     "language": "python",
     "metadata": {},
     "outputs": [
      {
       "html": [
        "<div style=\"max-height:1000px;max-width:1500px;overflow:auto;\">\n",
        "<table border=\"1\" class=\"dataframe\">\n",
        "  <thead>\n",
        "    <tr style=\"text-align: right;\">\n",
        "      <th></th>\n",
        "      <th>one</th>\n",
        "      <th>two</th>\n",
        "    </tr>\n",
        "  </thead>\n",
        "  <tbody>\n",
        "    <tr>\n",
        "      <th>5</th>\n",
        "      <td>      NaN</td>\n",
        "      <td>      NaN</td>\n",
        "    </tr>\n",
        "    <tr>\n",
        "      <th>4</th>\n",
        "      <td> 0.162510</td>\n",
        "      <td> 0.260471</td>\n",
        "    </tr>\n",
        "    <tr>\n",
        "      <th>3</th>\n",
        "      <td> 1.000000</td>\n",
        "      <td> 1.000000</td>\n",
        "    </tr>\n",
        "    <tr>\n",
        "      <th>2</th>\n",
        "      <td> 1.000000</td>\n",
        "      <td> 1.000000</td>\n",
        "    </tr>\n",
        "    <tr>\n",
        "      <th>1</th>\n",
        "      <td> 0.427332</td>\n",
        "      <td> 0.752622</td>\n",
        "    </tr>\n",
        "  </tbody>\n",
        "</table>\n",
        "</div>"
       ],
       "output_type": "pyout",
       "prompt_number": 99,
       "text": [
        "        one       two\n",
        "5       NaN       NaN\n",
        "4  0.162510  0.260471\n",
        "3  1.000000  1.000000\n",
        "2  1.000000  1.000000\n",
        "1  0.427332  0.752622"
       ]
      }
     ],
     "prompt_number": 99
    },
    {
     "cell_type": "markdown",
     "metadata": {},
     "source": [
      "For series, use the `order()` method."
     ]
    },
    {
     "cell_type": "markdown",
     "metadata": {},
     "source": [
      "###Summaryizing"
     ]
    },
    {
     "cell_type": "code",
     "collapsed": false,
     "input": [
      "df.sum()"
     ],
     "language": "python",
     "metadata": {},
     "outputs": [
      {
       "output_type": "pyout",
       "prompt_number": 100,
       "text": [
        "one    2.589842\n",
        "two    3.013093"
       ]
      }
     ],
     "prompt_number": 100
    },
    {
     "cell_type": "code",
     "collapsed": false,
     "input": [
      "df.describe()"
     ],
     "language": "python",
     "metadata": {},
     "outputs": [
      {
       "html": [
        "<div style=\"max-height:1000px;max-width:1500px;overflow:auto;\">\n",
        "<table border=\"1\" class=\"dataframe\">\n",
        "  <thead>\n",
        "    <tr style=\"text-align: right;\">\n",
        "      <th></th>\n",
        "      <th>one</th>\n",
        "      <th>two</th>\n",
        "    </tr>\n",
        "  </thead>\n",
        "  <tbody>\n",
        "    <tr>\n",
        "      <th>count</th>\n",
        "      <td> 4.000000</td>\n",
        "      <td> 4.000000</td>\n",
        "    </tr>\n",
        "    <tr>\n",
        "      <th>mean</th>\n",
        "      <td> 0.647461</td>\n",
        "      <td> 0.753273</td>\n",
        "    </tr>\n",
        "    <tr>\n",
        "      <th>std</th>\n",
        "      <td> 0.421189</td>\n",
        "      <td> 0.348617</td>\n",
        "    </tr>\n",
        "    <tr>\n",
        "      <th>min</th>\n",
        "      <td> 0.162510</td>\n",
        "      <td> 0.260471</td>\n",
        "    </tr>\n",
        "    <tr>\n",
        "      <th>25%</th>\n",
        "      <td> 0.361127</td>\n",
        "      <td> 0.629584</td>\n",
        "    </tr>\n",
        "    <tr>\n",
        "      <th>50%</th>\n",
        "      <td> 0.713666</td>\n",
        "      <td> 0.876311</td>\n",
        "    </tr>\n",
        "    <tr>\n",
        "      <th>75%</th>\n",
        "      <td> 1.000000</td>\n",
        "      <td> 1.000000</td>\n",
        "    </tr>\n",
        "    <tr>\n",
        "      <th>max</th>\n",
        "      <td> 1.000000</td>\n",
        "      <td> 1.000000</td>\n",
        "    </tr>\n",
        "  </tbody>\n",
        "</table>\n",
        "</div>"
       ],
       "output_type": "pyout",
       "prompt_number": 101,
       "text": [
        "            one       two\n",
        "count  4.000000  4.000000\n",
        "mean   0.647461  0.753273\n",
        "std    0.421189  0.348617\n",
        "min    0.162510  0.260471\n",
        "25%    0.361127  0.629584\n",
        "50%    0.713666  0.876311\n",
        "75%    1.000000  1.000000\n",
        "max    1.000000  1.000000"
       ]
      }
     ],
     "prompt_number": 101
    },
    {
     "cell_type": "markdown",
     "metadata": {},
     "source": [
      "##Loading, Storing, Formats\n",
      "###Text files\n",
      "* read_csv\n",
      "* read_table (tab delimited files)"
     ]
    },
    {
     "cell_type": "code",
     "collapsed": false,
     "input": [
      "file = os.path.join('data','tips.csv')\n",
      "!head $file"
     ],
     "language": "python",
     "metadata": {},
     "outputs": [
      {
       "output_type": "stream",
       "stream": "stdout",
       "text": [
        "total_bill,tip,sex,smoker,day,time,size\r\n",
        "16.99,1.01,Female,No,Sun,Dinner,2\r\n",
        "10.34,1.66,Male,No,Sun,Dinner,3\r\n",
        "21.01,3.5,Male,No,Sun,Dinner,3\r\n",
        "23.68,3.31,Male,No,Sun,Dinner,2\r\n",
        "24.59,3.61,Female,No,Sun,Dinner,4\r\n",
        "25.29,4.71,Male,No,Sun,Dinner,4\r\n",
        "8.77,2.0,Male,No,Sun,Dinner,2\r\n",
        "26.88,3.12,Male,No,Sun,Dinner,4\r\n",
        "15.04,1.96,Male,No,Sun,Dinner,2\r\n"
       ]
      }
     ],
     "prompt_number": 223
    },
    {
     "cell_type": "code",
     "collapsed": false,
     "input": [
      "tab = pd.read_csv(file)\n",
      "tab.head()"
     ],
     "language": "python",
     "metadata": {},
     "outputs": [
      {
       "html": [
        "<div style=\"max-height:1000px;max-width:1500px;overflow:auto;\">\n",
        "<table border=\"1\" class=\"dataframe\">\n",
        "  <thead>\n",
        "    <tr style=\"text-align: right;\">\n",
        "      <th></th>\n",
        "      <th>total_bill</th>\n",
        "      <th>tip</th>\n",
        "      <th>sex</th>\n",
        "      <th>smoker</th>\n",
        "      <th>day</th>\n",
        "      <th>time</th>\n",
        "      <th>size</th>\n",
        "    </tr>\n",
        "  </thead>\n",
        "  <tbody>\n",
        "    <tr>\n",
        "      <th>0</th>\n",
        "      <td> 16.99</td>\n",
        "      <td> 1.01</td>\n",
        "      <td> Female</td>\n",
        "      <td> No</td>\n",
        "      <td> Sun</td>\n",
        "      <td> Dinner</td>\n",
        "      <td> 2</td>\n",
        "    </tr>\n",
        "    <tr>\n",
        "      <th>1</th>\n",
        "      <td> 10.34</td>\n",
        "      <td> 1.66</td>\n",
        "      <td>   Male</td>\n",
        "      <td> No</td>\n",
        "      <td> Sun</td>\n",
        "      <td> Dinner</td>\n",
        "      <td> 3</td>\n",
        "    </tr>\n",
        "    <tr>\n",
        "      <th>2</th>\n",
        "      <td> 21.01</td>\n",
        "      <td> 3.50</td>\n",
        "      <td>   Male</td>\n",
        "      <td> No</td>\n",
        "      <td> Sun</td>\n",
        "      <td> Dinner</td>\n",
        "      <td> 3</td>\n",
        "    </tr>\n",
        "    <tr>\n",
        "      <th>3</th>\n",
        "      <td> 23.68</td>\n",
        "      <td> 3.31</td>\n",
        "      <td>   Male</td>\n",
        "      <td> No</td>\n",
        "      <td> Sun</td>\n",
        "      <td> Dinner</td>\n",
        "      <td> 2</td>\n",
        "    </tr>\n",
        "    <tr>\n",
        "      <th>4</th>\n",
        "      <td> 24.59</td>\n",
        "      <td> 3.61</td>\n",
        "      <td> Female</td>\n",
        "      <td> No</td>\n",
        "      <td> Sun</td>\n",
        "      <td> Dinner</td>\n",
        "      <td> 4</td>\n",
        "    </tr>\n",
        "  </tbody>\n",
        "</table>\n",
        "</div>"
       ],
       "output_type": "pyout",
       "prompt_number": 224,
       "text": [
        "   total_bill   tip     sex smoker  day    time  size\n",
        "0       16.99  1.01  Female     No  Sun  Dinner     2\n",
        "1       10.34  1.66    Male     No  Sun  Dinner     3\n",
        "2       21.01  3.50    Male     No  Sun  Dinner     3\n",
        "3       23.68  3.31    Male     No  Sun  Dinner     2\n",
        "4       24.59  3.61  Female     No  Sun  Dinner     4"
       ]
      }
     ],
     "prompt_number": 224
    },
    {
     "cell_type": "markdown",
     "metadata": {},
     "source": [
      "###And more\n",
      "* Binary\n",
      "* HDF5\n",
      "* Databases\n",
      "* Excel\n",
      "* Web scraping"
     ]
    }
   ],
   "metadata": {}
  }
 ]
}