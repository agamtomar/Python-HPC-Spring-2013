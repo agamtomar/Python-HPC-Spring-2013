{
 "metadata": {
  "name": "bitly"
 },
 "nbformat": 3,
 "nbformat_minor": 0,
 "worksheets": [
  {
   "cells": [
    {
     "cell_type": "markdown",
     "metadata": {},
     "source": [
      "# bit.ly data\n",
      "\n",
      "## Objectives\n",
      "\n",
      "* Introduce json data\n",
      "* Dealing with missing values\n",
      "* Counting records"
     ]
    },
    {
     "cell_type": "code",
     "collapsed": false,
     "input": [
      "import os\n",
      "import glob\n",
      "import pandas as pd\n",
      "import json"
     ],
     "language": "python",
     "metadata": {},
     "outputs": [],
     "prompt_number": 3
    },
    {
     "cell_type": "code",
     "collapsed": false,
     "input": [
      "files = glob.glob(os.path.join('bitly', '*'))            \n",
      "print files[0]"
     ],
     "language": "python",
     "metadata": {},
     "outputs": [
      {
       "output_type": "stream",
       "stream": "stdout",
       "text": [
        "bitly/usagov_bitly_data2013-03-19-1363717369.json\n"
       ]
      }
     ],
     "prompt_number": 4
    },
    {
     "cell_type": "markdown",
     "metadata": {},
     "source": [
      "### Json data"
     ]
    },
    {
     "cell_type": "code",
     "collapsed": false,
     "input": [
      "records = []\n",
      "input_file = open(files[0],'r')\n",
      "for line in input_file:\n",
      "    records.append(json.loads(line))\n",
      "                   \n",
      "records[0]"
     ],
     "language": "python",
     "metadata": {},
     "outputs": [
      {
       "output_type": "pyout",
       "prompt_number": 5,
       "text": [
        "{u'a': u'Mozilla/5.0 (Windows NT 6.1; WOW64; rv:17.0) Gecko/20100101 Firefox/17.0',\n",
        " u'al': u'en-US,en;q=0.5',\n",
        " u'c': u'US',\n",
        " u'cy': u'Chicago',\n",
        " u'g': u'12qVNbl',\n",
        " u'gr': u'IL',\n",
        " u'h': u'12qVNbk',\n",
        " u'hc': 1360101255,\n",
        " u'hh': u'go.nasa.gov',\n",
        " u'l': u'nasatwitter',\n",
        " u'll': [41.882401, -87.637604],\n",
        " u'nk': 0,\n",
        " u'r': u'direct',\n",
        " u't': 1363717368,\n",
        " u'tz': u'America/Chicago',\n",
        " u'u': u'http://www.nasa.gov/centers/johnson/roundup/jsc_director_news.html'}"
       ]
      }
     ],
     "prompt_number": 5
    },
    {
     "cell_type": "markdown",
     "metadata": {},
     "source": [
      "But, we can also use list comprehension!"
     ]
    },
    {
     "cell_type": "code",
     "collapsed": false,
     "input": [
      "records = [ json.loads(line) for line in open(files[0],'r') ]\n",
      "data = pd.DataFrame(records)\n",
      "print data"
     ],
     "language": "python",
     "metadata": {},
     "outputs": [
      {
       "output_type": "stream",
       "stream": "stdout",
       "text": [
        "<class 'pandas.core.frame.DataFrame'>\n",
        "Int64Index: 9532 entries, 0 to 9531\n",
        "Data columns:\n",
        "_heartbeat_    120  non-null values\n",
        "a              9412  non-null values\n",
        "al             8425  non-null values\n",
        "c              8094  non-null values\n",
        "cy             8094  non-null values\n",
        "g              9412  non-null values\n",
        "gr             8094  non-null values\n",
        "h              9412  non-null values\n",
        "hc             9412  non-null values\n",
        "hh             9412  non-null values\n",
        "kw             196  non-null values\n",
        "l              9412  non-null values\n",
        "ll             8092  non-null values\n",
        "nk             9412  non-null values\n",
        "r              9412  non-null values\n",
        "t              9412  non-null values\n",
        "tz             9412  non-null values\n",
        "u              9412  non-null values\n",
        "dtypes: float64(4), object(14)\n"
       ]
      }
     ],
     "prompt_number": 6
    },
    {
     "cell_type": "markdown",
     "metadata": {},
     "source": [
      "### Counting\n",
      "\n",
      "Which time zones click the most links?"
     ]
    },
    {
     "cell_type": "code",
     "collapsed": false,
     "input": [
      "tz_count = data['tz'].value_counts()\n",
      "print tz_count.head(10)"
     ],
     "language": "python",
     "metadata": {},
     "outputs": [
      {
       "output_type": "stream",
       "stream": "stdout",
       "text": [
        "America/New_York       2481\n",
        "America/Chicago        1584\n",
        "                       1323\n",
        "America/Los_Angeles     828\n",
        "Europe/London           595\n",
        "America/Phoenix         228\n",
        "America/Denver          219\n",
        "Asia/Calcutta           182\n",
        "Europe/Paris            101\n",
        "America/Rainy_River      93\n"
       ]
      }
     ],
     "prompt_number": 8
    },
    {
     "cell_type": "code",
     "collapsed": false,
     "input": [
      "print data.groupby('tz').size().order(ascending=False).head()"
     ],
     "language": "python",
     "metadata": {},
     "outputs": [
      {
       "output_type": "stream",
       "stream": "stdout",
       "text": [
        "tz\n",
        "America/New_York       2481\n",
        "America/Chicago        1584\n",
        "                       1323\n",
        "America/Los_Angeles     828\n",
        "Europe/London           595\n"
       ]
      }
     ],
     "prompt_number": 9
    },
    {
     "cell_type": "markdown",
     "metadata": {},
     "source": [
      "###Missing Values\n"
     ]
    },
    {
     "cell_type": "markdown",
     "metadata": {},
     "source": [
      "Do we have any NA values?"
     ]
    },
    {
     "cell_type": "code",
     "collapsed": false,
     "input": [
      "print pd.isnull(data['tz']).order(ascending=False).head()"
     ],
     "language": "python",
     "metadata": {},
     "outputs": [
      {
       "output_type": "stream",
       "stream": "stdout",
       "text": [
        "9494    True\n",
        "9434    True\n",
        "9367    True\n",
        "9304    True\n",
        "9241    True\n"
       ]
      }
     ],
     "prompt_number": 10
    },
    {
     "cell_type": "code",
     "collapsed": false,
     "input": [
      "tz_clean = data['tz'].fillna('missing')\n",
      "print pd.isnull(tz_clean).order(ascending=False).head()"
     ],
     "language": "python",
     "metadata": {},
     "outputs": [
      {
       "output_type": "stream",
       "stream": "stdout",
       "text": [
        "9531    False\n",
        "9530    False\n",
        "9529    False\n",
        "9528    False\n",
        "9527    False\n"
       ]
      }
     ],
     "prompt_number": 11
    },
    {
     "cell_type": "code",
     "collapsed": false,
     "input": [
      "print tz_clean.value_counts().head(10)"
     ],
     "language": "python",
     "metadata": {},
     "outputs": [
      {
       "output_type": "stream",
       "stream": "stdout",
       "text": [
        "America/New_York       2481\n",
        "America/Chicago        1584\n",
        "                       1323\n",
        "America/Los_Angeles     828\n",
        "Europe/London           595\n",
        "America/Phoenix         228\n",
        "America/Denver          219\n",
        "Asia/Calcutta           182\n",
        "missing                 120\n",
        "Europe/Paris            101\n"
       ]
      }
     ],
     "prompt_number": 12
    },
    {
     "cell_type": "markdown",
     "metadata": {},
     "source": [
      "Empyty strings?"
     ]
    },
    {
     "cell_type": "code",
     "collapsed": false,
     "input": [
      "print (tz_clean == '').order(ascending=False).head(5)"
     ],
     "language": "python",
     "metadata": {},
     "outputs": [
      {
       "output_type": "stream",
       "stream": "stdout",
       "text": [
        "9522    True\n",
        "9517    True\n",
        "9510    True\n",
        "9507    True\n",
        "9501    True\n",
        "Name: tz\n"
       ]
      }
     ],
     "prompt_number": 13
    },
    {
     "cell_type": "code",
     "collapsed": false,
     "input": [
      "tz_clean[tz_clean == ''] = 'unknown'"
     ],
     "language": "python",
     "metadata": {},
     "outputs": [],
     "prompt_number": 14
    },
    {
     "cell_type": "code",
     "collapsed": false,
     "input": [
      "tz_clean.strip()"
     ],
     "language": "python",
     "metadata": {},
     "outputs": [
      {
       "ename": "AttributeError",
       "evalue": "'Series' object has no attribute 'strip'",
       "output_type": "pyerr",
       "traceback": [
        "\u001b[0;31m---------------------------------------------------------------------------\u001b[0m\n\u001b[0;31mAttributeError\u001b[0m                            Traceback (most recent call last)",
        "\u001b[0;32m<ipython-input-17-1b84392ee25f>\u001b[0m in \u001b[0;36m<module>\u001b[0;34m()\u001b[0m\n\u001b[0;32m----> 1\u001b[0;31m \u001b[0mtz_clean\u001b[0m\u001b[0;34m.\u001b[0m\u001b[0mstrip\u001b[0m\u001b[0;34m(\u001b[0m\u001b[0;34m)\u001b[0m\u001b[0;34m\u001b[0m\u001b[0m\n\u001b[0m",
        "\u001b[0;31mAttributeError\u001b[0m: 'Series' object has no attribute 'strip'"
       ]
      }
     ],
     "prompt_number": 17
    },
    {
     "cell_type": "code",
     "collapsed": false,
     "input": [
      "tz_counts = tz_clean.value_counts().head(10)\n",
      "print tz_counts"
     ],
     "language": "python",
     "metadata": {},
     "outputs": [
      {
       "output_type": "stream",
       "stream": "stdout",
       "text": [
        "America/New_York       2481\n",
        "America/Chicago        1584\n",
        "unknown                1323\n",
        "America/Los_Angeles     828\n",
        "Europe/London           595\n",
        "America/Phoenix         228\n",
        "America/Denver          219\n",
        "Asia/Calcutta           182\n",
        "missing                 120\n",
        "Europe/Paris            101\n"
       ]
      }
     ],
     "prompt_number": 15
    },
    {
     "cell_type": "code",
     "collapsed": false,
     "input": [
      "tz_counts.plot(kind='barh')"
     ],
     "language": "python",
     "metadata": {},
     "outputs": [
      {
       "output_type": "pyout",
       "prompt_number": 16,
       "text": [
        "<matplotlib.axes.AxesSubplot at 0x10897b1d0>"
       ]
      },
      {
       "output_type": "display_data",
       "png": "[encoded data removed]"
      }
     ],
     "prompt_number": 16
    },
    {
     "cell_type": "code",
     "collapsed": false,
     "input": [],
     "language": "python",
     "metadata": {},
     "outputs": []
    }
   ],
   "metadata": {}
  }
 ]
}