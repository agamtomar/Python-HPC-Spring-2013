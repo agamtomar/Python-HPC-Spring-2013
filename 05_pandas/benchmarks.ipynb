{
 "metadata": {
  "name": "benchmarks"
 },
 "nbformat": 3,
 "nbformat_minor": 0,
 "worksheets": [
  {
   "cells": [
    {
     "cell_type": "markdown",
     "metadata": {},
     "source": [
      "# Benchmarks\n",
      "\n",
      "##Objectives\n",
      "\n",
      "* Group by\n",
      "* Unstack"
     ]
    },
    {
     "cell_type": "code",
     "collapsed": false,
     "input": [
      "import os\n",
      "import pandas as pd\n",
      "\n",
      "f = os.path.join('data','node_data.tab')\n",
      "!cat $f"
     ],
     "language": "python",
     "metadata": {},
     "outputs": [
      {
       "output_type": "stream",
       "stream": "stdout",
       "text": [
        "name test percent\r\n",
        "node0001 stream 0.1\r\n",
        "node0002 stream 0.3\r\n",
        "node0003 stream 0.4\r\n",
        "node0004 stream 0.05\r\n",
        "node0005 stream 0.01\r\n",
        "node0006 stream 0.09\r\n",
        "node0007 stream 0.15\r\n",
        "node0008 stream 0.0\r\n",
        "node0009 stream 0.0\r\n",
        "node0010 stream 0.1\r\n",
        "node0001 linpack 0.01\r\n",
        "node0002 linpack 0.3\r\n",
        "node0003 linpack 0.4\r\n",
        "node0004 linpack 0.5\r\n",
        "node0005 linpack 0.1\r\n",
        "node0006 linpack 0.09\r\n",
        "node0007 linpack 0.05\r\n",
        "node0008 linpack 0.1\r\n",
        "node0009 linpack 0.0\r\n",
        "node0010 linpack 0.0\r\n",
        "\r\n"
       ]
      }
     ],
     "prompt_number": 2
    },
    {
     "cell_type": "code",
     "collapsed": false,
     "input": [
      "tmp = pd.read_table(f, sep ='\\s+')\n",
      "print tmp.head()"
     ],
     "language": "python",
     "metadata": {},
     "outputs": [
      {
       "output_type": "stream",
       "stream": "stdout",
       "text": [
        "       name    test  percent\n",
        "0  node0001  stream     0.10\n",
        "1  node0002  stream     0.30\n",
        "2  node0003  stream     0.40\n",
        "3  node0004  stream     0.05\n",
        "4  node0005  stream     0.01\n"
       ]
      }
     ],
     "prompt_number": 36
    },
    {
     "cell_type": "code",
     "collapsed": false,
     "input": [
      "fail = tmp[tmp['percent'] > 0.09]\n",
      "print fail.head()"
     ],
     "language": "python",
     "metadata": {},
     "outputs": [
      {
       "output_type": "stream",
       "stream": "stdout",
       "text": [
        "       name    test  percent\n",
        "0  node0001  stream     0.10\n",
        "1  node0002  stream     0.30\n",
        "2  node0003  stream     0.40\n",
        "6  node0007  stream     0.15\n",
        "9  node0010  stream     0.10\n"
       ]
      }
     ],
     "prompt_number": 18
    },
    {
     "cell_type": "code",
     "collapsed": false,
     "input": [
      "fail_group = fail.groupby(['name','test']).mean()\n",
      "print fail_group"
     ],
     "language": "python",
     "metadata": {},
     "outputs": [
      {
       "output_type": "stream",
       "stream": "stdout",
       "text": [
        "                  percent\n",
        "name     test            \n",
        "node0001 stream      0.10\n",
        "node0002 linpack     0.30\n",
        "         stream      0.30\n",
        "node0003 linpack     0.40\n",
        "         stream      0.40\n",
        "node0004 linpack     0.50\n",
        "node0005 linpack     0.10\n",
        "node0007 stream      0.15\n",
        "node0008 linpack     0.10\n",
        "node0010 stream      0.10\n"
       ]
      }
     ],
     "prompt_number": 27
    },
    {
     "cell_type": "code",
     "collapsed": false,
     "input": [
      "fail_table = fail_group.unstack()\n",
      "print fail_table"
     ],
     "language": "python",
     "metadata": {},
     "outputs": [
      {
       "output_type": "stream",
       "stream": "stdout",
       "text": [
        "          percent        \n",
        "test      linpack  stream\n",
        "name                     \n",
        "node0001      NaN    0.10\n",
        "node0002      0.3    0.30\n",
        "node0003      0.4    0.40\n",
        "node0004      0.5     NaN\n",
        "node0005      0.1     NaN\n",
        "node0007      NaN    0.15\n",
        "node0008      0.1     NaN\n",
        "node0010      NaN    0.10\n"
       ]
      }
     ],
     "prompt_number": 29
    },
    {
     "cell_type": "markdown",
     "metadata": {},
     "source": [
      "Which nodes failed both tests?"
     ]
    },
    {
     "cell_type": "code",
     "collapsed": false,
     "input": [
      "print fail_table.dropna()"
     ],
     "language": "python",
     "metadata": {},
     "outputs": [
      {
       "output_type": "stream",
       "stream": "stdout",
       "text": [
        "          percent        \n",
        "test      linpack  stream\n",
        "name                     \n",
        "node0002      0.3     0.3\n",
        "node0003      0.4     0.4\n"
       ]
      }
     ],
     "prompt_number": 34
    },
    {
     "cell_type": "code",
     "collapsed": false,
     "input": [],
     "language": "python",
     "metadata": {},
     "outputs": []
    }
   ],
   "metadata": {}
  }
 ]
}