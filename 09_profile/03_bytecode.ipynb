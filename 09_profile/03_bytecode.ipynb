{
 "metadata": {
  "name": "03_bytecode"
 },
 "nbformat": 3,
 "nbformat_minor": 0,
 "worksheets": [
  {
   "cells": [
    {
     "cell_type": "markdown",
     "metadata": {},
     "source": [
      "#Bytecode"
     ]
    },
    {
     "cell_type": "code",
     "collapsed": false,
     "input": [
      "import dis\n",
      "import mandelbrot"
     ],
     "language": "python",
     "metadata": {},
     "outputs": [],
     "prompt_number": 4
    },
    {
     "cell_type": "raw",
     "metadata": {},
     "source": [
      "4  def mandel_z(complex_number):\n",
      "5     \"\"\"\n",
      "6     Takes a complex coordinate and returns the number of iterations it\n",
      "7     takes to determine whether that point is outside of the Mandelbrot set.8\n",
      "8     \"\"\"\n",
      "9     z = complex_number\n",
      "10    it = 0\n",
      "11    maxit = 256\n",
      "12    while abs(z) < 2 and it < maxit:\n",
      "13       z = z*z + complex_number\n",
      "14       it += 1\n",
      "15    return it"
     ]
    },
    {
     "cell_type": "code",
     "collapsed": false,
     "input": [
      "dis.dis(mandelbrot.mandel_z)"
     ],
     "language": "python",
     "metadata": {},
     "outputs": [
      {
       "output_type": "stream",
       "stream": "stdout",
       "text": [
        " 10           0 LOAD_FAST                0 (complex_number)\n",
        "              3 STORE_FAST               1 (z)\n",
        "\n",
        " 11           6 LOAD_CONST               1 (0)\n",
        "              9 STORE_FAST               2 (it)\n",
        "\n",
        " 12          12 LOAD_CONST               2 (256)\n",
        "             15 STORE_FAST               3 (maxit)\n",
        "\n",
        " 13          18 SETUP_LOOP              58 (to 79)\n",
        "        >>   21 LOAD_GLOBAL              0 (abs)\n",
        "             24 LOAD_FAST                1 (z)\n",
        "             27 CALL_FUNCTION            1\n",
        "             30 LOAD_CONST               3 (2)\n",
        "             33 COMPARE_OP               0 (<)\n",
        "             36 POP_JUMP_IF_FALSE       78\n",
        "             39 LOAD_FAST                2 (it)\n",
        "             42 LOAD_FAST                3 (maxit)\n",
        "             45 COMPARE_OP               0 (<)\n",
        "             48 POP_JUMP_IF_FALSE       78\n",
        "\n",
        " 14          51 LOAD_FAST                1 (z)\n",
        "             54 LOAD_CONST               3 (2)\n",
        "             57 BINARY_POWER        \n",
        "             58 LOAD_FAST                0 (complex_number)\n",
        "             61 BINARY_ADD          \n",
        "             62 STORE_FAST               1 (z)\n",
        "\n",
        " 15          65 LOAD_FAST                2 (it)\n",
        "             68 LOAD_CONST               4 (1)\n",
        "             71 INPLACE_ADD         \n",
        "             72 STORE_FAST               2 (it)\n",
        "             75 JUMP_ABSOLUTE           21\n",
        "        >>   78 POP_BLOCK           \n",
        "\n",
        " 16     >>   79 LOAD_FAST                2 (it)\n",
        "             82 RETURN_VALUE        \n"
       ]
      }
     ],
     "prompt_number": 5
    },
    {
     "cell_type": "code",
     "collapsed": false,
     "input": [],
     "language": "python",
     "metadata": {},
     "outputs": []
    }
   ],
   "metadata": {}
  }
 ]
}