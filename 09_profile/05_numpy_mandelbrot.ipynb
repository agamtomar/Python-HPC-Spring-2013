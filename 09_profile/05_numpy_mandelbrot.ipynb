{
 "metadata": {
  "name": "05_numpy_mandelbrot"
 },
 "nbformat": 3,
 "nbformat_minor": 0,
 "worksheets": [
  {
   "cells": [
    {
     "cell_type": "markdown",
     "metadata": {},
     "source": [
      "#A Numpy Implementation"
     ]
    },
    {
     "cell_type": "code",
     "collapsed": false,
     "input": [
      "import numpy as np\n",
      "np.seterr(all='ignore')"
     ],
     "language": "python",
     "metadata": {},
     "outputs": [
      {
       "output_type": "pyout",
       "prompt_number": 11,
       "text": [
        "{'divide': 'ignore', 'invalid': 'ignore', 'over': 'ignore', 'under': 'ignore'}"
       ]
      }
     ],
     "prompt_number": 11
    },
    {
     "cell_type": "code",
     "collapsed": false,
     "input": [
      "def grid(xvals, yvals):\n",
      "    data = np.zeros(len(xvals)*len(yvals), np.complex128)\n",
      "    index = 0\n",
      "    for x in xvals:\n",
      "        for y in yvals:\n",
      "            data[index] = complex(x,y)\n",
      "            index += 1\n",
      "    return data"
     ],
     "language": "python",
     "metadata": {},
     "outputs": [],
     "prompt_number": 12
    },
    {
     "cell_type": "code",
     "collapsed": false,
     "input": [
      "def mandel_z(q):\n",
      "    \n",
      "    z = q.copy()\n",
      "    maxit = 256\n",
      "    output = np.zeros(q.shape)\n",
      "    \n",
      "    for iteration in range(maxit):\n",
      "        output += np.less(np.abs(z), 2.0)\n",
      "        z = z*z + q\n",
      "    return output"
     ],
     "language": "python",
     "metadata": {},
     "outputs": [],
     "prompt_number": 13
    },
    {
     "cell_type": "code",
     "collapsed": false,
     "input": [
      "def create_mandel(min_x, max_x, min_y, max_y, size):    \n",
      "    x_vals = np.linspace(min_x, max_x, num=size)\n",
      "    y_vals = np.linspace(min_y, max_y, num=size)\n",
      "    \n",
      "    mandelbrot = grid(x_vals, y_vals)\n",
      "    results = mandel_z(mandelbrot)\n",
      "    \n",
      "    return results"
     ],
     "language": "python",
     "metadata": {},
     "outputs": [],
     "prompt_number": 14
    },
    {
     "cell_type": "markdown",
     "metadata": {},
     "source": [
      "Same problem size..."
     ]
    },
    {
     "cell_type": "code",
     "collapsed": false,
     "input": [
      "size = 500\n",
      "z = create_mandel(-2.2, 0.8, -1.5, 1.5, size)"
     ],
     "language": "python",
     "metadata": {},
     "outputs": [],
     "prompt_number": 16
    },
    {
     "cell_type": "markdown",
     "metadata": {},
     "source": [
      "## What's it look like?"
     ]
    },
    {
     "cell_type": "code",
     "collapsed": false,
     "input": [
      "import matplotlib.pyplot as plt\n",
      "import matplotlib.image as mpimg"
     ],
     "language": "python",
     "metadata": {},
     "outputs": [],
     "prompt_number": 17
    },
    {
     "cell_type": "code",
     "collapsed": false,
     "input": [
      "Z = np.reshape(z, (size,size), order='F') "
     ],
     "language": "python",
     "metadata": {},
     "outputs": [],
     "prompt_number": 18
    },
    {
     "cell_type": "code",
     "collapsed": false,
     "input": [
      "fig, ax = subplots(figsize=(12,12))\n",
      "im = imshow(Z, cmap=cm.RdBu,  \n",
      "            vmin=abs(Z).min(), \n",
      "            vmax=abs(Z).max(), \n",
      "            extent=[-2.2, 0.8, -1.5, 1.5])\n",
      "fig.savefig('mandel.png')"
     ],
     "language": "python",
     "metadata": {},
     "outputs": [],
     "prompt_number": 19
    },
    {
     "cell_type": "markdown",
     "metadata": {},
     "source": [
      "##Profile"
     ]
    },
    {
     "cell_type": "code",
     "collapsed": false,
     "input": [
      "import cProfile\n",
      "cProfile.run('z = create_mandel(-2.2, 0.8, -1.5, 1.5, size)', 'profile.dat')"
     ],
     "language": "python",
     "metadata": {},
     "outputs": [],
     "prompt_number": 20
    },
    {
     "cell_type": "code",
     "collapsed": false,
     "input": [
      "import pstats\n",
      "p = pstats.Stats('profile.dat')\n",
      "p.sort_stats('cumulative').print_stats(10)  "
     ],
     "language": "python",
     "metadata": {},
     "outputs": [
      {
       "output_type": "stream",
       "stream": "stdout",
       "text": [
        "Thu May  2 08:57:32 2013    profile.dat\n",
        "\n",
        "         15 function calls in 1.946 seconds\n",
        "\n",
        "   Ordered by: cumulative time\n",
        "   List reduced from 11 to 10 due to restriction <10>\n",
        "\n",
        "   ncalls  tottime  percall  cumtime  percall filename:lineno(function)\n",
        "        1    0.001    0.001    1.946    1.946 <string>:1(<module>)\n",
        "        1    0.001    0.001    1.945    1.945 <ipython-input-14-07054fd3d86a>:1(create_mandel)\n",
        "        1    1.649    1.649    1.651    1.651 <ipython-input-13-b02ba84dd904>:1(mandel_z)\n",
        "        1    0.292    0.292    0.293    0.293 <ipython-input-12-1df0d7a34369>:1(grid)\n",
        "        2    0.001    0.001    0.001    0.001 {numpy.core.multiarray.zeros}\n",
        "        1    0.001    0.001    0.001    0.001 {method 'copy' of 'numpy.ndarray' objects}\n",
        "        2    0.000    0.000    0.000    0.000 /Users/mlunacek/anaconda/lib/python2.7/site-packages/numpy/core/function_base.py:6(linspace)\n",
        "        2    0.000    0.000    0.000    0.000 {numpy.core.multiarray.arange}\n",
        "        1    0.000    0.000    0.000    0.000 {range}\n",
        "        2    0.000    0.000    0.000    0.000 {len}\n",
        "\n",
        "\n"
       ]
      },
      {
       "output_type": "pyout",
       "prompt_number": 21,
       "text": [
        "<pstats.Stats instance at 0x106311f38>"
       ]
      }
     ],
     "prompt_number": 21
    },
    {
     "cell_type": "markdown",
     "metadata": {},
     "source": [
      "## Are we done? "
     ]
    },
    {
     "cell_type": "code",
     "collapsed": false,
     "input": [
      "size = 1000\n",
      "import time\n",
      "tic = time.time()\n",
      "z = create_mandel(-2.2, 0.8, -1.5, 1.5, size)\n",
      "print time.time() - tic"
     ],
     "language": "python",
     "metadata": {},
     "outputs": [
      {
       "output_type": "stream",
       "stream": "stdout",
       "text": [
        "7.4277381897\n"
       ]
      }
     ],
     "prompt_number": 23
    },
    {
     "cell_type": "code",
     "collapsed": false,
     "input": [],
     "language": "python",
     "metadata": {},
     "outputs": []
    }
   ],
   "metadata": {}
  }
 ]
}