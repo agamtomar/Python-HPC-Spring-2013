{
 "metadata": {
  "name": "01_mandelbrot_problem"
 },
 "nbformat": 3,
 "nbformat_minor": 0,
 "worksheets": [
  {
   "cells": [
    {
     "cell_type": "markdown",
     "metadata": {},
     "source": [
      "#Mandelbrot\n",
      "\n",
      "http://en.wikipedia.org/wiki/Mandelbrot_set\n",
      "\n",
      "\"The Mandelbrot set is a mathematical set of points whose boundary is a distinctive and easily recognizable two-dimensional fractal shape.  Images of the Mandelbrot set are made by sampling complex numbers and determining for each whether the result tends towards infinity when a particular mathematical operation is iterated on it. Treating the real and imaginary parts of each number as image coordinates, pixels are colored according to how rapidly the sequence diverges, if at all.\" --wikipedia\n",
      "\n",
      "<img src=\"files/img/mandelbrot.png\" style=\"height:500px\">\n",
      "\n",
      "Inspired by: http://ianozsvald.com/2011/07/25/high-performance-python-tutorial-v0-2-from-europython-2011/"
     ]
    },
    {
     "cell_type": "markdown",
     "metadata": {},
     "source": [
      "## Objectives\n",
      "\n",
      "- Use the Mandelbrot problem to understand how to profile and optimize\n",
      "- Python: 90 seconds\n",
      "- Numpy: 7 seconds\n",
      "- Cache: 4.5 seconds\n",
      "- Parallel: 3.5 seconds\n",
      "\n"
     ]
    },
    {
     "cell_type": "markdown",
     "metadata": {},
     "source": [
      "## Python Code"
     ]
    },
    {
     "cell_type": "code",
     "collapsed": false,
     "input": [
      "import numpy"
     ],
     "language": "python",
     "metadata": {},
     "outputs": [],
     "prompt_number": 36
    },
    {
     "cell_type": "code",
     "collapsed": false,
     "input": [
      "def mandel_z(complex_number):\n",
      "    \"\"\"\n",
      "    Takes a complex coordinate and returns the number of iterations it\n",
      "    takes to determine whether that point is outside of the Mandelbrot set.\n",
      "    \"\"\"\n",
      "    z = complex_number\n",
      "    it = 0\n",
      "    maxit = 256\n",
      "    while abs(z) < 2 and it < maxit:\n",
      "       z = z*z + complex_number\n",
      "       it += 1\n",
      "    return it"
     ],
     "language": "python",
     "metadata": {},
     "outputs": [],
     "prompt_number": 37
    },
    {
     "cell_type": "code",
     "collapsed": false,
     "input": [
      "def grid(xvals, yvals):\n",
      "    data = np.zeros(len(xvals)*len(yvals), np.complex128)\n",
      "    index = 0\n",
      "    for x in xvals:\n",
      "        for y in yvals:\n",
      "            data[index] = complex(x,y)\n",
      "            index += 1\n",
      "    return data"
     ],
     "language": "python",
     "metadata": {},
     "outputs": [],
     "prompt_number": 38
    },
    {
     "cell_type": "code",
     "collapsed": false,
     "input": [
      "def create_mandel(min_x, max_x, min_y, max_y, size):\n",
      "    \n",
      "    x_vals = np.linspace(min_x, max_x, size)\n",
      "    y_vals = np.linspace(min_y, max_y, size)\n",
      "    \n",
      "    data = grid(x_vals, y_vals)\n",
      "    \n",
      "    z = map(mandel_z, data)\n",
      "    \n",
      "    return z"
     ],
     "language": "python",
     "metadata": {},
     "outputs": [],
     "prompt_number": 39
    },
    {
     "cell_type": "code",
     "collapsed": false,
     "input": [
      "import time\n",
      "tic = time.time()\n",
      "size = 500\n",
      "z = create_mandel(-2.2, 0.8, -1.5, 1.5, size)\n",
      "print time.time() - tic"
     ],
     "language": "python",
     "metadata": {},
     "outputs": [
      {
       "output_type": "stream",
       "stream": "stdout",
       "text": [
        "93.4531238079\n"
       ]
      }
     ],
     "prompt_number": 40
    },
    {
     "cell_type": "markdown",
     "metadata": {},
     "source": [
      "## Create the image"
     ]
    },
    {
     "cell_type": "code",
     "collapsed": false,
     "input": [
      "import matplotlib.pyplot as plt\n",
      "import matplotlib.image as mpimg"
     ],
     "language": "python",
     "metadata": {},
     "outputs": [],
     "prompt_number": 29
    },
    {
     "cell_type": "code",
     "collapsed": false,
     "input": [
      "Z = np.reshape(z, (size,size), order='F') "
     ],
     "language": "python",
     "metadata": {},
     "outputs": [],
     "prompt_number": 30
    },
    {
     "cell_type": "code",
     "collapsed": false,
     "input": [
      "fig, ax = subplots(figsize=(4,4))\n",
      "im = imshow(Z, cmap=cm.RdBu,  \n",
      "            vmin=abs(Z).min(), \n",
      "            vmax=abs(Z).max(), \n",
      "            extent=[-2.2, 0.8, -1.5, 1.5])\n",
      "fig.savefig('mandel.png')"
     ],
     "language": "python",
     "metadata": {},
     "outputs": [],
     "prompt_number": 31
    },
    {
     "cell_type": "markdown",
     "metadata": {},
     "source": [
      "## Using `cProfile`: Where are the bottlenecks? "
     ]
    },
    {
     "cell_type": "code",
     "collapsed": false,
     "input": [
      "import cProfile\n",
      "\n",
      "cProfile.run('z = create_mandel(-2.2, 0.8, -1.5, 1.5, size)', 'profile.dat')"
     ],
     "language": "python",
     "metadata": {},
     "outputs": [],
     "prompt_number": 32
    },
    {
     "cell_type": "code",
     "collapsed": false,
     "input": [
      "import pstats\n",
      "p = pstats.Stats('profile.dat')\n",
      "p.sort_stats('cumulative').print_stats()  "
     ],
     "language": "python",
     "metadata": {},
     "outputs": [
      {
       "output_type": "stream",
       "stream": "stdout",
       "text": [
        "Thu May  2 08:34:34 2013    profile.dat\n",
        "\n",
        "         12098254 function calls in 26.006 seconds\n",
        "\n",
        "   Ordered by: cumulative time\n",
        "\n",
        "   ncalls  tottime  percall  cumtime  percall filename:lineno(function)\n",
        "        1    0.001    0.001   26.006   26.006 <string>:1(<module>)\n",
        "        1    0.000    0.000   26.005   26.005 <ipython-input-27-0dcc68ae516f>:1(create_mandel)\n",
        "        1    0.199    0.199   25.790   25.790 {map}\n",
        "   250000   24.037    0.000   25.591    0.000 <ipython-input-25-a67dc61e67aa>:1(mandel_z)\n",
        " 11848242    1.554    0.000    1.554    0.000 {abs}\n",
        "        1    0.214    0.214    0.215    0.215 <ipython-input-26-1df0d7a34369>:1(grid)\n",
        "        1    0.001    0.001    0.001    0.001 {numpy.core.multiarray.zeros}\n",
        "        2    0.000    0.000    0.000    0.000 /Users/mlunacek/anaconda/lib/python2.7/site-packages/numpy/core/function_base.py:6(linspace)\n",
        "        2    0.000    0.000    0.000    0.000 {numpy.core.multiarray.arange}\n",
        "        2    0.000    0.000    0.000    0.000 {len}\n",
        "        1    0.000    0.000    0.000    0.000 {method 'disable' of '_lsprof.Profiler' objects}\n",
        "\n",
        "\n"
       ]
      },
      {
       "output_type": "pyout",
       "prompt_number": 33,
       "text": [
        "<pstats.Stats instance at 0x107aa0710>"
       ]
      }
     ],
     "prompt_number": 33
    },
    {
     "cell_type": "markdown",
     "metadata": {},
     "source": [
      "##Interpretation\n",
      "\n",
      "### Where should we spend our time?\n",
      "\n",
      "- It takes about `25` seconds to run a `500` x `500` problem\n",
      "- Most of the time is spent in `mandel_z` (~ `24` seconds).\n",
      "- `abs` is a time suck\n",
      "- Should we worry about `linspace` or `grid`?"
     ]
    },
    {
     "cell_type": "markdown",
     "metadata": {},
     "source": [
      "###Magic commands"
     ]
    },
    {
     "cell_type": "code",
     "collapsed": false,
     "input": [
      "%prun z = create_mandel(-2.2, 0.8, -1.5, 1.5, size)"
     ],
     "language": "python",
     "metadata": {},
     "outputs": [
      {
       "output_type": "stream",
       "stream": "stdout",
       "text": [
        "\n"
       ]
      }
     ],
     "prompt_number": 34
    }
   ],
   "metadata": {}
  }
 ]
}