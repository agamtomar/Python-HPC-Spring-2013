{
 "metadata": {
  "name": "07_mandelbrot_parallel"
 },
 "nbformat": 3,
 "nbformat_minor": 0,
 "worksheets": [
  {
   "cells": [
    {
     "cell_type": "markdown",
     "metadata": {},
     "source": [
      "# Parallel\n",
      "\n",
      "In `5.1` easy steps"
     ]
    },
    {
     "cell_type": "code",
     "collapsed": false,
     "input": [
      "import numpy as np\n",
      "\n",
      "# Step 1\n",
      "from IPython import parallel"
     ],
     "language": "python",
     "metadata": {},
     "outputs": [],
     "prompt_number": 19
    },
    {
     "cell_type": "code",
     "collapsed": false,
     "input": [
      "def mandel_z(q):\n",
      "    \n",
      "    # Step 2: Add the import to give visibility to engines\n",
      "    import numpy as np\n",
      "    np.seterr(all='ignore')\n",
      "    \n",
      "    z = q.copy()\n",
      "    maxit = 256\n",
      "    output = np.zeros(q.shape)\n",
      "    for iteration in range(maxit):\n",
      "        output += np.less(np.abs(z), 2.0)\n",
      "        z *= z\n",
      "        z += q\n",
      "    return output\n",
      "\n",
      "def grid(xvals, yvals, block):\n",
      "    index = 0\n",
      "    data = []\n",
      "    tmp = np.zeros(block, np.complex128)\n",
      "    for x in xvals:\n",
      "        for y in yvals:\n",
      "            if (index)%block == 0:\n",
      "                index = 0\n",
      "                data.append(tmp)\n",
      "                tmp = np.zeros(block, np.complex128)\n",
      "            tmp[index] = complex(x,y)\n",
      "            index+=1\n",
      "    data.append(tmp)\n",
      "    tmp = data.pop(0)\n",
      "    return data"
     ],
     "language": "python",
     "metadata": {},
     "outputs": [],
     "prompt_number": 20
    },
    {
     "cell_type": "code",
     "collapsed": false,
     "input": [
      "def create_mandel(min_x, max_x, min_y, max_y, size, block_size):    \n",
      "    x_vals = np.linspace(min_x, max_x, size)\n",
      "    y_vals = np.linspace(min_y, max_y, size)\n",
      "    \n",
      "    mandelbrot = grid(x_vals, y_vals, block_size)\n",
      "    \n",
      "    \n",
      "    # Step 3,4,5\n",
      "    rc = parallel.Client()\n",
      "    lview = rc.load_balanced_view()\n",
      "    lview.block = True\n",
      "    \n",
      "    # Step 5.1\n",
      "    results = lview.map(mandel_z,mandelbrot)\n",
      "    \n",
      "    \n",
      "    output = np.concatenate(results)\n",
      "    \n",
      "    return output"
     ],
     "language": "python",
     "metadata": {},
     "outputs": [],
     "prompt_number": 23
    },
    {
     "cell_type": "code",
     "collapsed": false,
     "input": [
      "import time\n",
      "size = 1000\n",
      "tic = time.time()\n",
      "z = create_mandel(-2.2,0.8,-1.5,1.5,size,50000)\n",
      "print 50000, time.time() - tic"
     ],
     "language": "python",
     "metadata": {},
     "outputs": [
      {
       "output_type": "stream",
       "stream": "stdout",
       "text": [
        "50000 3.64145207405\n"
       ]
      }
     ],
     "prompt_number": 25
    },
    {
     "cell_type": "markdown",
     "metadata": {},
     "source": [
      "## Are we done?"
     ]
    },
    {
     "cell_type": "raw",
     "metadata": {},
     "source": [
      "1000 1000000 1.54454183578\n",
      "2000 4000000 5.82634496689\n",
      "3000 9000000 12.7147858143\n",
      "4000 16000000 22.6379621029\n",
      "5000 25000000 35.4031348228\n"
     ]
    }
   ],
   "metadata": {}
  }
 ]
}