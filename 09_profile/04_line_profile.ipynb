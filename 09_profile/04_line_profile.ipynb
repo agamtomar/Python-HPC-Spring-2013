{
 "metadata": {
  "name": "04_line_profile"
 },
 "nbformat": 3,
 "nbformat_minor": 0,
 "worksheets": [
  {
   "cells": [
    {
     "cell_type": "markdown",
     "metadata": {},
     "source": [
      "#Line profile\n",
      "\n",
      "## Installation\n",
      "\n",
      "`pip install line-profiler`\n",
      "\n",
      "### Ipython installation\n",
      "\n",
      "`ipython profile create`\n",
      "\n",
      "Then create the file `~/.ipython/extensions/line_profiler_ext.py` and add the following content:"
     ]
    },
    {
     "cell_type": "raw",
     "metadata": {},
     "source": [
      "import line_profiler\n",
      "\n",
      "def load_ipython_extension(ip):\n",
      "    ip.define_magic('lprun', line_profiler.magic_lprun)"
     ]
    },
    {
     "cell_type": "markdown",
     "metadata": {},
     "source": [
      "Then register it in `~/.ipython/profile_default/ipython_config.py`:"
     ]
    },
    {
     "cell_type": "raw",
     "metadata": {},
     "source": [
      "c.TerminalIPythonApp.extensions = [\n",
      "    'line_profiler_ext',\n",
      "]\n",
      "c.InteractiveShellApp.extensions = [\n",
      "    'line_profiler_ext',\n",
      "]"
     ]
    },
    {
     "cell_type": "markdown",
     "metadata": {},
     "source": [
      "## Usage\n",
      "\n",
      "If we have a file called `mandelbrot.py`, we could decorate the function we want to profile with the `@profile` decorator.  Then we run the command:"
     ]
    },
    {
     "cell_type": "raw",
     "metadata": {},
     "source": [
      "python -m line_profiler mandelbrot.py"
     ]
    },
    {
     "cell_type": "markdown",
     "metadata": {},
     "source": [
      "##Notebook"
     ]
    },
    {
     "cell_type": "code",
     "collapsed": false,
     "input": [
      "import mandelbrot"
     ],
     "language": "python",
     "metadata": {},
     "outputs": [],
     "prompt_number": 1
    },
    {
     "cell_type": "code",
     "collapsed": false,
     "input": [
      "mandelbrot??"
     ],
     "language": "python",
     "metadata": {},
     "outputs": [],
     "prompt_number": 2
    },
    {
     "cell_type": "markdown",
     "metadata": {},
     "source": [
      "Run a smaller problem because it take a while."
     ]
    },
    {
     "cell_type": "code",
     "collapsed": false,
     "input": [
      "%lprun -f mandelbrot.mandel_z -f mandelbrot.create_mandel mandelbrot.create_mandel(-2.2, 0.8, -1.5, 1.5, 50)"
     ],
     "language": "python",
     "metadata": {},
     "outputs": [
      {
       "output_type": "stream",
       "stream": "stdout",
       "text": [
        "\n"
       ]
      }
     ],
     "prompt_number": 3
    },
    {
     "cell_type": "markdown",
     "metadata": {},
     "source": [
      "What can we do about that?"
     ]
    },
    {
     "cell_type": "code",
     "collapsed": false,
     "input": [
      "z = 10\n",
      "%timeit z**2"
     ],
     "language": "python",
     "metadata": {},
     "outputs": [
      {
       "output_type": "stream",
       "stream": "stdout",
       "text": [
        "10000000 loops, best of 3: 87.7 ns per loop\n"
       ]
      }
     ],
     "prompt_number": 4
    },
    {
     "cell_type": "code",
     "collapsed": false,
     "input": [
      "z = 10\n",
      "%timeit z*z\n"
     ],
     "language": "python",
     "metadata": {},
     "outputs": [
      {
       "output_type": "stream",
       "stream": "stdout",
       "text": [
        "10000000 loops, best of 3: 74.4 ns per loop\n"
       ]
      }
     ],
     "prompt_number": 5
    },
    {
     "cell_type": "code",
     "collapsed": false,
     "input": [
      "c = complex(2,1)\n",
      "z = c"
     ],
     "language": "python",
     "metadata": {},
     "outputs": [],
     "prompt_number": 6
    },
    {
     "cell_type": "code",
     "collapsed": false,
     "input": [
      "%%timeit \n",
      "a = z*z + c"
     ],
     "language": "python",
     "metadata": {},
     "outputs": [
      {
       "output_type": "stream",
       "stream": "stdout",
       "text": [
        "10000000 loops, best of 3: 144 ns per loop\n"
       ]
      }
     ],
     "prompt_number": 7
    },
    {
     "cell_type": "code",
     "collapsed": false,
     "input": [
      "%%timeit \n",
      "a = z*z\n",
      "a += c"
     ],
     "language": "python",
     "metadata": {},
     "outputs": [
      {
       "output_type": "stream",
       "stream": "stdout",
       "text": [
        "10000000 loops, best of 3: 175 ns per loop\n"
       ]
      }
     ],
     "prompt_number": 8
    },
    {
     "cell_type": "code",
     "collapsed": false,
     "input": [
      "%%timeit\n",
      "it = 0\n",
      "maxit = 256"
     ],
     "language": "python",
     "metadata": {},
     "outputs": [
      {
       "output_type": "stream",
       "stream": "stdout",
       "text": [
        "10000000 loops, best of 3: 52.8 ns per loop\n"
       ]
      }
     ],
     "prompt_number": 9
    },
    {
     "cell_type": "code",
     "collapsed": false,
     "input": [
      "%%timeit\n",
      "it, maxit = 0, 256"
     ],
     "language": "python",
     "metadata": {},
     "outputs": [
      {
       "output_type": "stream",
       "stream": "stdout",
       "text": [
        "10000000 loops, best of 3: 45.9 ns per loop\n"
       ]
      }
     ],
     "prompt_number": 10
    },
    {
     "cell_type": "code",
     "collapsed": false,
     "input": [],
     "language": "python",
     "metadata": {},
     "outputs": []
    }
   ],
   "metadata": {}
  }
 ]
}