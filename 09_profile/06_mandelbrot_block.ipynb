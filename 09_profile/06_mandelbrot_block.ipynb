{
 "metadata": {
  "name": "06_mandelbrot_block"
 },
 "nbformat": 3,
 "nbformat_minor": 0,
 "worksheets": [
  {
   "cells": [
    {
     "cell_type": "markdown",
     "metadata": {},
     "source": [
      "#Cache and blocking\n",
      "\n",
      "##Instructions"
     ]
    },
    {
     "cell_type": "code",
     "collapsed": false,
     "input": [
      "import dis"
     ],
     "language": "python",
     "metadata": {},
     "outputs": [],
     "prompt_number": 2
    },
    {
     "cell_type": "code",
     "collapsed": false,
     "input": [
      "a,b,c = 1,2,0\n",
      "\n",
      "def func():\n",
      "    c = a + b\n",
      "    return c"
     ],
     "language": "python",
     "metadata": {},
     "outputs": [],
     "prompt_number": 28
    },
    {
     "cell_type": "code",
     "collapsed": false,
     "input": [
      "func()"
     ],
     "language": "python",
     "metadata": {},
     "outputs": [
      {
       "output_type": "pyout",
       "prompt_number": 29,
       "text": [
        "3"
       ]
      }
     ],
     "prompt_number": 29
    },
    {
     "cell_type": "code",
     "collapsed": false,
     "input": [
      "dis.dis(func)"
     ],
     "language": "python",
     "metadata": {},
     "outputs": [
      {
       "output_type": "stream",
       "stream": "stdout",
       "text": [
        "  4           0 LOAD_GLOBAL              0 (a)\n",
        "              3 LOAD_GLOBAL              1 (b)\n",
        "              6 BINARY_ADD          \n",
        "              7 STORE_FAST               0 (c)\n",
        "\n",
        "  5          10 LOAD_FAST                0 (c)\n",
        "             13 RETURN_VALUE        \n"
       ]
      }
     ],
     "prompt_number": 30
    },
    {
     "cell_type": "markdown",
     "metadata": {},
     "source": [
      "## Memory Instructions\n",
      "\n",
      "- 2 `LOAD`s\n",
      "- 1 `STORE`"
     ]
    },
    {
     "cell_type": "markdown",
     "metadata": {},
     "source": [
      "## Memory Hierarchy\n",
      "\n",
      "<img src='files/img/memory.png' style='height:400px'>\n",
      "\n",
      "### Cache\n",
      "\n",
      "<img src='files/img/cache.png' style='height:400px'>"
     ]
    },
    {
     "cell_type": "markdown",
     "metadata": {},
     "source": [
      "## Performance\n",
      "\n",
      "- If your program fits into cache, you have excellent performance.\n",
      "- If not, you will have `cache hits` and `cache misses`\n",
      "\n",
      "## Cache line\n",
      "\n",
      "- The smallest unit of data transferred between main memory and each level of cache\n",
      "\n",
      "## Optimization\n",
      "\n",
      "- Optimizing cache is always *indirect*\n",
      "- Data can be in any of the levels (hidden from the programmer, good!)\n"
     ]
    },
    {
     "cell_type": "markdown",
     "metadata": {},
     "source": [
      "## Blocking"
     ]
    },
    {
     "cell_type": "code",
     "collapsed": false,
     "input": [
      "import numpy as np\n",
      "np.seterr(all='ignore')"
     ],
     "language": "python",
     "metadata": {},
     "outputs": [
      {
       "output_type": "pyout",
       "prompt_number": 31,
       "text": [
        "{'divide': 'warn', 'invalid': 'warn', 'over': 'warn', 'under': 'ignore'}"
       ]
      }
     ],
     "prompt_number": 31
    },
    {
     "cell_type": "code",
     "collapsed": false,
     "input": [
      "def mandel_z(q):\n",
      "    \n",
      "    z = q.copy()\n",
      "    maxit = 256\n",
      "    output = np.zeros(q.shape)\n",
      "    for iteration in range(maxit):\n",
      "        output += np.less(np.abs(z), 2.0)\n",
      "        z *= z\n",
      "        z += q\n",
      "    return output"
     ],
     "language": "python",
     "metadata": {},
     "outputs": [],
     "prompt_number": 33
    },
    {
     "cell_type": "markdown",
     "metadata": {},
     "source": [
      "Want to execute `mandel_z` in blocks of size `block_size`"
     ]
    },
    {
     "cell_type": "code",
     "collapsed": false,
     "input": [
      "def create_mandel(min_x, max_x, min_y, max_y, size, block_size):    \n",
      "    x_vals = np.linspace(min_x, max_x, num=size)\n",
      "    y_vals = np.linspace(min_y, max_y, num=size)\n",
      "    \n",
      "    mandelbrot = grid(x_vals, y_vals, block_size)\n",
      "    \n",
      "    results = map(mandel_z,mandelbrot)\n",
      "    \n",
      "    output = np.concatenate(results)\n",
      "    \n",
      "    return output"
     ],
     "language": "python",
     "metadata": {},
     "outputs": [],
     "prompt_number": 36
    },
    {
     "cell_type": "markdown",
     "metadata": {},
     "source": [
      "So we need to modify the `grid` functions to pass back a `list` of `np.arrays`.\n",
      "\n",
      "Why? So that \n",
      "\n",
      "- `z`, `q`, and `output` are all in cache\n",
      "- minimize the amount I transfer them"
     ]
    },
    {
     "cell_type": "code",
     "collapsed": false,
     "input": [
      "def grid(xvals, yvals, block):\n",
      "    index = 0\n",
      "    data = []\n",
      "    tmp = np.zeros(block, np.complex128)\n",
      "    for x in xvals:\n",
      "        for y in yvals:\n",
      "            if (index)%block == 0:\n",
      "                index = 0\n",
      "                data.append(tmp)\n",
      "                tmp = np.zeros(block, np.complex128)\n",
      "            tmp[index] = complex(x,y)\n",
      "            index+=1\n",
      "    data.append(tmp)\n",
      "    tmp = data.pop(0)\n",
      "    return data"
     ],
     "language": "python",
     "metadata": {},
     "outputs": [],
     "prompt_number": 37
    },
    {
     "cell_type": "markdown",
     "metadata": {},
     "source": [
      "## Testing it"
     ]
    },
    {
     "cell_type": "code",
     "collapsed": false,
     "input": [
      "import time\n",
      "size = 1000\n",
      "\n",
      "for block in [50, 500, 5000, 50000, 500000]:\n",
      "    tic = time.time()\n",
      "    z = create_mandel(-2.2,0.8,-1.5,1.5,size,block)\n",
      "    print block, time.time() - tic\n",
      "    "
     ],
     "language": "python",
     "metadata": {},
     "outputs": [
      {
       "output_type": "stream",
       "stream": "stdout",
       "text": [
        "50 57.2717530727\n",
        "500"
       ]
      },
      {
       "output_type": "stream",
       "stream": "stdout",
       "text": [
        " 9.27525997162\n",
        "5000"
       ]
      },
      {
       "output_type": "stream",
       "stream": "stdout",
       "text": [
        " 4.64010095596\n",
        "50000"
       ]
      },
      {
       "output_type": "stream",
       "stream": "stdout",
       "text": [
        " 4.35560297966\n",
        "500000"
       ]
      },
      {
       "output_type": "stream",
       "stream": "stdout",
       "text": [
        " 5.45811390877\n"
       ]
      }
     ],
     "prompt_number": 39
    },
    {
     "cell_type": "markdown",
     "metadata": {},
     "source": [
      "## Are we done?"
     ]
    },
    {
     "cell_type": "code",
     "collapsed": false,
     "input": [],
     "language": "python",
     "metadata": {},
     "outputs": []
    }
   ],
   "metadata": {}
  }
 ]
}