{
 "metadata": {
  "name": "08_memory_profiler"
 },
 "nbformat": 3,
 "nbformat_minor": 0,
 "worksheets": [
  {
   "cells": [
    {
     "cell_type": "markdown",
     "metadata": {},
     "source": [
      "#Memory Profile\n",
      "\n",
      "##Installation"
     ]
    },
    {
     "cell_type": "raw",
     "metadata": {},
     "source": [
      "pip install memory_profiler"
     ]
    },
    {
     "cell_type": "markdown",
     "metadata": {},
     "source": [
      "###Ipython"
     ]
    },
    {
     "cell_type": "markdown",
     "metadata": {},
     "source": [
      "Then create the following file `~/.ipython/extensions/memory_profiler_ext.py`"
     ]
    },
    {
     "cell_type": "raw",
     "metadata": {},
     "source": [
      "import memory_profiler\n",
      "\n",
      "def load_ipython_extension(ip):\n",
      "    ip.define_magic('memit', memory_profiler.magic_memit)\n",
      "    ip.define_magic('mprun', memory_profiler.magic_mprun)"
     ]
    },
    {
     "cell_type": "markdown",
     "metadata": {},
     "source": [
      "And register the magic commands by adding the following to the `~/.ipython/profile_default/ipython_config.py`"
     ]
    },
    {
     "cell_type": "raw",
     "metadata": {},
     "source": [
      "c.TerminalIPythonApp.extensions = [\n",
      "    'memory_profiler_ext',\n",
      "]\n",
      "c.InteractiveShellApp.extensions = [\n",
      "    'memory_profiler_ext',\n",
      "]"
     ]
    },
    {
     "cell_type": "markdown",
     "metadata": {},
     "source": [
      "This will register the `%memit` and `%mprun` magic commands in IPython"
     ]
    },
    {
     "cell_type": "markdown",
     "metadata": {},
     "source": [
      "##Usage"
     ]
    },
    {
     "cell_type": "code",
     "collapsed": false,
     "input": [
      "import mandelbrot"
     ],
     "language": "python",
     "metadata": {},
     "outputs": [],
     "prompt_number": 1
    },
    {
     "cell_type": "code",
     "collapsed": false,
     "input": [
      "z = mandelbrot.create_mandel(-2.2, 0.8, -1.5, 1.5, 100)"
     ],
     "language": "python",
     "metadata": {},
     "outputs": [],
     "prompt_number": 2
    },
    {
     "cell_type": "code",
     "collapsed": false,
     "input": [
      "%mprun -f mandelbrot.mandel_z -f mandelbrot.create_mandel mandelbrot.create_mandel(-2.2, 0.8, -1.5, 1.5, 100)"
     ],
     "language": "python",
     "metadata": {},
     "outputs": [
      {
       "output_type": "stream",
       "stream": "stdout",
       "text": [
        "('',)\n"
       ]
      }
     ],
     "prompt_number": 3
    },
    {
     "cell_type": "markdown",
     "metadata": {},
     "source": [
      "### How many MB does an array of 1,000,000 elements consume?"
     ]
    },
    {
     "cell_type": "code",
     "collapsed": false,
     "input": [
      "%memit np.zeros(10)"
     ],
     "language": "python",
     "metadata": {},
     "outputs": [
      {
       "output_type": "stream",
       "stream": "stdout",
       "text": [
        "maximum of 1: 43.636719 MB per loop\n"
       ]
      }
     ],
     "prompt_number": 2
    },
    {
     "cell_type": "code",
     "collapsed": false,
     "input": [
      "%memit np.zeros(1000000)"
     ],
     "language": "python",
     "metadata": {},
     "outputs": [
      {
       "output_type": "stream",
       "stream": "stdout",
       "text": [
        "maximum of 1: 43.636719 MB per loop\n"
       ]
      }
     ],
     "prompt_number": 3
    },
    {
     "cell_type": "code",
     "collapsed": false,
     "input": [
      "%memit np.zeros(10000000)"
     ],
     "language": "python",
     "metadata": {},
     "outputs": [
      {
       "output_type": "stream",
       "stream": "stdout",
       "text": [
        "maximum of 1: 51.378906 MB per loop\n"
       ]
      }
     ],
     "prompt_number": 4
    },
    {
     "cell_type": "code",
     "collapsed": false,
     "input": [
      "%memit np.zeros(100000000)"
     ],
     "language": "python",
     "metadata": {},
     "outputs": [
      {
       "output_type": "stream",
       "stream": "stdout",
       "text": [
        "maximum of 1: 813.593750 MB per loop\n"
       ]
      }
     ],
     "prompt_number": 5
    },
    {
     "cell_type": "code",
     "collapsed": false,
     "input": [],
     "language": "python",
     "metadata": {},
     "outputs": []
    }
   ],
   "metadata": {}
  }
 ]
}