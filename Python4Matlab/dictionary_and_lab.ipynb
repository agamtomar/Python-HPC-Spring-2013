{
 "metadata": {
  "name": "dictionary_and_lab"
 },
 "nbformat": 3,
 "nbformat_minor": 0,
 "worksheets": [
  {
   "cells": [
    {
     "cell_type": "markdown",
     "metadata": {},
     "source": [
      "#The Python Dictionary\n",
      "Probably the most important built-in data structure.\n",
      "\n",
      "* hash map\n",
      "* associative array\n",
      "\n",
      "It's a flexible collection of key-value pairs."
     ]
    },
    {
     "cell_type": "markdown",
     "metadata": {},
     "source": [
      "## Simple Example"
     ]
    },
    {
     "cell_type": "code",
     "collapsed": false,
     "input": [
      "data = {}\n",
      "\n",
      "data['number'] = 10\n",
      "data[1] = 'string'\n",
      "data['c'] = [1,2,3,4]\n",
      "\n",
      "print data"
     ],
     "language": "python",
     "metadata": {},
     "outputs": [
      {
       "output_type": "stream",
       "stream": "stdout",
       "text": [
        "{1: 'string', 'c': [1, 2, 3, 4], 'number': 10}\n"
       ]
      }
     ],
     "prompt_number": 1
    },
    {
     "cell_type": "code",
     "collapsed": false,
     "input": [
      "for key, value in data.iteritems():\n",
      "    print key, value"
     ],
     "language": "python",
     "metadata": {},
     "outputs": [
      {
       "output_type": "stream",
       "stream": "stdout",
       "text": [
        "1 string\n",
        "c [1, 2, 3, 4]\n",
        "number 10\n"
       ]
      }
     ],
     "prompt_number": 2
    },
    {
     "cell_type": "markdown",
     "metadata": {},
     "source": [
      "What do you notice about this data structure?"
     ]
    },
    {
     "cell_type": "code",
     "collapsed": false,
     "input": [
      "data[1]"
     ],
     "language": "python",
     "metadata": {},
     "outputs": [
      {
       "output_type": "pyout",
       "prompt_number": 3,
       "text": [
        "'string'"
       ]
      }
     ],
     "prompt_number": 3
    },
    {
     "cell_type": "code",
     "collapsed": false,
     "input": [
      "data['c'][2]"
     ],
     "language": "python",
     "metadata": {},
     "outputs": [
      {
       "output_type": "pyout",
       "prompt_number": 4,
       "text": [
        "3"
       ]
      }
     ],
     "prompt_number": 4
    },
    {
     "cell_type": "code",
     "collapsed": false,
     "input": [
      "if 1 in data and 'c' in data:\n",
      "    print data[1], data['c'][0]"
     ],
     "language": "python",
     "metadata": {},
     "outputs": [
      {
       "output_type": "stream",
       "stream": "stdout",
       "text": [
        "string 1\n"
       ]
      }
     ],
     "prompt_number": 5
    },
    {
     "cell_type": "markdown",
     "metadata": {},
     "source": [
      "How about a list of `(key,value)` pairs?"
     ]
    },
    {
     "cell_type": "code",
     "collapsed": false,
     "input": [
      "print data.items()"
     ],
     "language": "python",
     "metadata": {},
     "outputs": [
      {
       "output_type": "stream",
       "stream": "stdout",
       "text": [
        "[(1, 'string'), ('c', [1, 2, 3, 4]), ('number', 10)]\n"
       ]
      }
     ],
     "prompt_number": 6
    },
    {
     "cell_type": "markdown",
     "metadata": {},
     "source": [
      "##Lab: Hamlet\n",
      "###Questions\n",
      "\n",
      "- How many unique words are in Hamlet?\n",
      "* What are the 10 most common words used in Hamlet?"
     ]
    },
    {
     "cell_type": "code",
     "collapsed": false,
     "input": [
      "import os\n",
      "\n",
      "hamlet = os.path.join('data','hamlet.txt')\n",
      "!head $hamlet"
     ],
     "language": "python",
     "metadata": {},
     "outputs": [
      {
       "output_type": "stream",
       "stream": "stdout",
       "text": [
        "\tHAMLET\r\n",
        "\r\n",
        "\r\n",
        "\tDRAMATIS PERSONAE\r\n",
        "\r\n",
        "\r\n",
        "CLAUDIUS\tking of Denmark. (KING CLAUDIUS:)\r\n",
        "\r\n",
        "HAMLET\tson to the late, and nephew to the present king.\r\n",
        "\r\n"
       ]
      }
     ],
     "prompt_number": 7
    },
    {
     "cell_type": "markdown",
     "metadata": {},
     "source": [
      "###Quick Regular Expresions\n",
      "\n",
      "\"specific pattern that provides concise and flexible means to 'match' strings of text\" --Wikipedia\n",
      "\n",
      " `match = re.search(pattern, strings_of_text)`\n",
      "\n",
      "http://docs.python.org/2/library/re.html"
     ]
    },
    {
     "cell_type": "markdown",
     "metadata": {},
     "source": [
      "The `findall` method: Probably the single most powerful function in the re module. We used `re.search()` to find the first match for a pattern. `findall()` finds all the matches and returns them as a `list`.  "
     ]
    },
    {
     "cell_type": "code",
     "collapsed": false,
     "input": [
      "import re\n",
      "words = re.findall('\\w+', open(hamlet).read().lower())\n",
      "print words[:10]"
     ],
     "language": "python",
     "metadata": {},
     "outputs": [
      {
       "output_type": "stream",
       "stream": "stdout",
       "text": [
        "['hamlet', 'dramatis', 'personae', 'claudius', 'king', 'of', 'denmark', 'king', 'claudius', 'hamlet']\n"
       ]
      }
     ],
     "prompt_number": 8
    },
    {
     "cell_type": "markdown",
     "metadata": {},
     "source": [
      "Notes:\n",
      "\n",
      "* `\\w` matches any alphanumeric character and the underscore; this is equivalent to the set [a-zA-Z0-9_]\n",
      "* ` +` indicated 1 or more occurrences of the pattern"
     ]
    },
    {
     "cell_type": "code",
     "collapsed": false,
     "input": [
      "print len(words)"
     ],
     "language": "python",
     "metadata": {},
     "outputs": [
      {
       "output_type": "stream",
       "stream": "stdout",
       "text": [
        "27577\n"
       ]
      }
     ],
     "prompt_number": 9
    },
    {
     "cell_type": "markdown",
     "metadata": {},
     "source": [
      "How many unique words?"
     ]
    },
    {
     "cell_type": "markdown",
     "metadata": {},
     "source": [
      "How many times was 'thou' used?"
     ]
    },
    {
     "cell_type": "markdown",
     "metadata": {},
     "source": [
      "What are the 10 most common words?"
     ]
    },
    {
     "cell_type": "markdown",
     "metadata": {},
     "source": [
      "###Sorting\n",
      "\n",
      "* `sorted` method accepts a `key` function.\n",
      "* Optional `reverse=True` method."
     ]
    },
    {
     "cell_type": "code",
     "collapsed": false,
     "input": [
      "data = {}\n",
      "\n",
      "data[4] = 'All'\n",
      "data[1] = 'John'\n",
      "data[2] = 'Bob'\n",
      "\n",
      "print data.items()"
     ],
     "language": "python",
     "metadata": {},
     "outputs": [
      {
       "output_type": "stream",
       "stream": "stdout",
       "text": [
        "[(1, 'John'), (2, 'Bob'), (4, 'All')]\n"
       ]
      }
     ],
     "prompt_number": 10
    },
    {
     "cell_type": "code",
     "collapsed": false,
     "input": [
      "sorted(data.items(), key=lambda x: x[1], reverse=True)"
     ],
     "language": "python",
     "metadata": {},
     "outputs": [
      {
       "output_type": "pyout",
       "prompt_number": 11,
       "text": [
        "[(1, 'John'), (2, 'Bob'), (4, 'All')]"
       ]
      }
     ],
     "prompt_number": 11
    },
    {
     "cell_type": "markdown",
     "metadata": {},
     "source": [
      "And now, the most frequently used words:"
     ]
    },
    {
     "cell_type": "code",
     "collapsed": false,
     "input": [],
     "language": "python",
     "metadata": {},
     "outputs": []
    }
   ],
   "metadata": {}
  }
 ]
}