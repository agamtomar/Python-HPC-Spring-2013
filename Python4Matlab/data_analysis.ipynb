{
 "metadata": {
  "name": "data_analysis"
 },
 "nbformat": 3,
 "nbformat_minor": 0,
 "worksheets": [
  {
   "cells": [
    {
     "cell_type": "markdown",
     "metadata": {},
     "source": [
      "# Data Analysis\n",
      "\n",
      "This is adapted from 'Python for Data Analysis' by Wes McKinney\n",
      "\n",
      "<img src='files/data/python_for_data_analysis.png'>\n"
     ]
    },
    {
     "cell_type": "markdown",
     "metadata": {},
     "source": [
      "##Objectives\n",
      "\n",
      "* Data Frame\n",
      "* Merge\n",
      "* Aggregation: group by, pivot tables\n",
      "* Filtering data\n",
      "\n",
      "Question:\n",
      "\n",
      "* What are the highest rated movies?"
     ]
    },
    {
     "cell_type": "markdown",
     "metadata": {},
     "source": [
      "## Data Frame\n",
      "\n",
      "Table or Spreadsheet"
     ]
    },
    {
     "cell_type": "code",
     "collapsed": false,
     "input": [
      "import pandas as pd\n",
      "import os\n",
      "\n",
      "unames = ['user_id','gender','age','occupation','zip']\n",
      "users = pd.read_table(os.path.join('data','users.dat'), sep='::', \n",
      "                      header=None, names=unames)\n",
      "print users.head()"
     ],
     "language": "python",
     "metadata": {},
     "outputs": [
      {
       "output_type": "stream",
       "stream": "stdout",
       "text": [
        "   user_id gender  age  occupation    zip\n",
        "0        1      F    1          10  48067\n",
        "1        2      M   56          16  70072\n",
        "2        3      M   25          15  55117\n",
        "3        4      M   45           7  02460\n",
        "4        5      M   25          20  55455\n"
       ]
      }
     ],
     "prompt_number": 5
    },
    {
     "cell_type": "code",
     "collapsed": false,
     "input": [
      "rnames = ['user_id', 'movie_id', 'rating', 'timestamp']\n",
      "ratings = pd.read_table(os.path.join('data','ratings.dat'), sep='::', header=None, names=rnames)\n",
      "print ratings.head()"
     ],
     "language": "python",
     "metadata": {},
     "outputs": [
      {
       "output_type": "stream",
       "stream": "stdout",
       "text": [
        "   user_id  movie_id  rating  timestamp\n",
        "0        1      1193       5  978300760\n",
        "1        1       661       3  978302109\n",
        "2        1       914       3  978301968\n",
        "3        1      3408       4  978300275\n",
        "4        1      2355       5  978824291\n"
       ]
      }
     ],
     "prompt_number": 6
    },
    {
     "cell_type": "code",
     "collapsed": false,
     "input": [
      "mnames = ['movie_id', 'title','genres']\n",
      "movies = pd.read_table(os.path.join('data','movies.dat'), sep='::', header=None, names=mnames)\n",
      "print movies.head()"
     ],
     "language": "python",
     "metadata": {},
     "outputs": [
      {
       "output_type": "stream",
       "stream": "stdout",
       "text": [
        "   movie_id                               title                        genres\n",
        "0         1                    Toy Story (1995)   Animation|Children's|Comedy\n",
        "1         2                      Jumanji (1995)  Adventure|Children's|Fantasy\n",
        "2         3             Grumpier Old Men (1995)                Comedy|Romance\n",
        "3         4            Waiting to Exhale (1995)                  Comedy|Drama\n",
        "4         5  Father of the Bride Part II (1995)                        Comedy\n"
       ]
      }
     ],
     "prompt_number": 7
    },
    {
     "cell_type": "code",
     "collapsed": false,
     "input": [
      "movies.title[1:10]"
     ],
     "language": "python",
     "metadata": {},
     "outputs": [
      {
       "output_type": "pyout",
       "prompt_number": 8,
       "text": [
        "1                        Jumanji (1995)\n",
        "2               Grumpier Old Men (1995)\n",
        "3              Waiting to Exhale (1995)\n",
        "4    Father of the Bride Part II (1995)\n",
        "5                           Heat (1995)\n",
        "6                        Sabrina (1995)\n",
        "7                   Tom and Huck (1995)\n",
        "8                   Sudden Death (1995)\n",
        "9                      GoldenEye (1995)\n",
        "Name: title"
       ]
      }
     ],
     "prompt_number": 8
    },
    {
     "cell_type": "code",
     "collapsed": false,
     "input": [
      "movies.ix[8]"
     ],
     "language": "python",
     "metadata": {},
     "outputs": [
      {
       "output_type": "pyout",
       "prompt_number": 9,
       "text": [
        "movie_id                      9\n",
        "title       Sudden Death (1995)\n",
        "genres                   Action\n",
        "Name: 8"
       ]
      }
     ],
     "prompt_number": 9
    },
    {
     "cell_type": "code",
     "collapsed": false,
     "input": [],
     "language": "python",
     "metadata": {},
     "outputs": [],
     "prompt_number": 9
    },
    {
     "cell_type": "markdown",
     "metadata": {},
     "source": [
      "##Merge\n",
      "Pandas has several ways to combine and merge data:\n",
      "\n",
      "* merge: connect rows on one or more keys.  Think SQL.\n",
      "* concat: stacks objects along an axis"
     ]
    },
    {
     "cell_type": "code",
     "collapsed": false,
     "input": [
      "data = pd.merge(pd.merge(ratings, users), movies)\n",
      "print data"
     ],
     "language": "python",
     "metadata": {},
     "outputs": [
      {
       "output_type": "stream",
       "stream": "stdout",
       "text": [
        "<class 'pandas.core.frame.DataFrame'>\n",
        "Int64Index: 1000209 entries, 0 to 1000208\n",
        "Data columns:\n",
        "user_id       1000209  non-null values\n",
        "movie_id      1000209  non-null values\n",
        "rating        1000209  non-null values\n",
        "timestamp     1000209  non-null values\n",
        "gender        1000209  non-null values\n",
        "age           1000209  non-null values\n",
        "occupation    1000209  non-null values\n",
        "zip           1000209  non-null values\n",
        "title         1000209  non-null values\n",
        "genres        1000209  non-null values\n",
        "dtypes: int64(6), object(4)\n"
       ]
      }
     ],
     "prompt_number": 10
    },
    {
     "cell_type": "code",
     "collapsed": false,
     "input": [
      "print data.head()"
     ],
     "language": "python",
     "metadata": {},
     "outputs": [
      {
       "output_type": "stream",
       "stream": "stdout",
       "text": [
        "   user_id  movie_id  rating  timestamp gender  age  occupation    zip  \\\n",
        "0        1      1193       5  978300760      F    1          10  48067   \n",
        "1        2      1193       5  978298413      M   56          16  70072   \n",
        "2       12      1193       4  978220179      M   25          12  32793   \n",
        "3       15      1193       4  978199279      M   25           7  22903   \n",
        "4       17      1193       5  978158471      M   50           1  95350   \n",
        "\n",
        "                                    title genres  \n",
        "0  One Flew Over the Cuckoo's Nest (1975)  Drama  \n",
        "1  One Flew Over the Cuckoo's Nest (1975)  Drama  \n",
        "2  One Flew Over the Cuckoo's Nest (1975)  Drama  \n",
        "3  One Flew Over the Cuckoo's Nest (1975)  Drama  \n",
        "4  One Flew Over the Cuckoo's Nest (1975)  Drama  \n"
       ]
      }
     ],
     "prompt_number": 12
    },
    {
     "cell_type": "markdown",
     "metadata": {},
     "source": [
      "##Group by and Sorting"
     ]
    },
    {
     "cell_type": "markdown",
     "metadata": {},
     "source": [
      "What is the highest rated movie?"
     ]
    },
    {
     "cell_type": "code",
     "collapsed": false,
     "input": [
      "group = data['rating'].groupby(data['title'])\n",
      "print group.mean().order(ascending=False).head(10)\n"
     ],
     "language": "python",
     "metadata": {},
     "outputs": [
      {
       "output_type": "stream",
       "stream": "stdout",
       "text": [
        "title\n",
        "Ulysses (Ulisse) (1954)                      5\n",
        "Song of Freedom (1936)                       5\n",
        "Smashing Time (1967)                         5\n",
        "Schlafes Bruder (Brother of Sleep) (1995)    5\n",
        "One Little Indian (1973)                     5\n",
        "Lured (1947)                                 5\n",
        "Gate of Heavenly Peace, The (1995)           5\n",
        "Follow the Bitch (1998)                      5\n",
        "Bittersweet Motel (2000)                     5\n",
        "Baby, The (1973)                             5\n"
       ]
      }
     ],
     "prompt_number": 13
    },
    {
     "cell_type": "markdown",
     "metadata": {},
     "source": [
      "What's wrong with this picture?"
     ]
    },
    {
     "cell_type": "code",
     "collapsed": false,
     "input": [
      "print group.size()"
     ],
     "language": "python",
     "metadata": {},
     "outputs": [
      {
       "output_type": "stream",
       "stream": "stdout",
       "text": [
        "title\n",
        "$1,000,000 Duck (1971)                  37\n",
        "'Night Mother (1986)                    70\n",
        "'Til There Was You (1997)               52\n",
        "'burbs, The (1989)                     303\n",
        "...And Justice for All (1979)          199\n",
        "1-900 (1994)                             2\n",
        "10 Things I Hate About You (1999)      700\n",
        "101 Dalmatians (1961)                  565\n",
        "101 Dalmatians (1996)                  364\n",
        "12 Angry Men (1957)                    616\n",
        "13th Warrior, The (1999)               750\n",
        "187 (1997)                              55\n",
        "2 Days in the Valley (1996)            286\n",
        "20 Dates (1998)                        139\n",
        "20,000 Leagues Under the Sea (1954)    575\n",
        "...\n",
        "You've Got Mail (1998)                         838\n",
        "Young Doctors in Love (1982)                    79\n",
        "Young Frankenstein (1974)                     1193\n",
        "Young Guns (1988)                              562\n",
        "Young Guns II (1990)                           369\n",
        "Young Poisoner's Handbook, The (1995)           79\n",
        "Young Sherlock Holmes (1985)                   379\n",
        "Young and Innocent (1937)                       10\n",
        "Your Friends and Neighbors (1998)              109\n",
        "Zachariah (1971)                                 2\n",
        "Zed & Two Noughts, A (1985)                     29\n",
        "Zero Effect (1998)                             301\n",
        "Zero Kelvin (Kj\ufffdrlighetens kj\ufffdtere) (1995)       2\n",
        "Zeus and Roxanne (1997)                         23\n",
        "eXistenZ (1999)                                410\n",
        "Length: 3706\n"
       ]
      }
     ],
     "prompt_number": 14
    },
    {
     "cell_type": "code",
     "collapsed": false,
     "input": [
      "number_and_mean = group.agg([size, mean])\n",
      "print number_and_mean.sort_index(by='mean', ascending=False).head(10)"
     ],
     "language": "python",
     "metadata": {},
     "outputs": [
      {
       "output_type": "stream",
       "stream": "stdout",
       "text": [
        "                                           size  mean\n",
        "title                                                \n",
        "Gate of Heavenly Peace, The (1995)            3     5\n",
        "Lured (1947)                                  1     5\n",
        "Ulysses (Ulisse) (1954)                       1     5\n",
        "Smashing Time (1967)                          2     5\n",
        "Follow the Bitch (1998)                       1     5\n",
        "Song of Freedom (1936)                        1     5\n",
        "Bittersweet Motel (2000)                      1     5\n",
        "Baby, The (1973)                              1     5\n",
        "One Little Indian (1973)                      1     5\n",
        "Schlafes Bruder (Brother of Sleep) (1995)     1     5\n"
       ]
      }
     ],
     "prompt_number": 15
    },
    {
     "cell_type": "markdown",
     "metadata": {},
     "source": [
      "###Filtering\n",
      "Let's filter our data so that we only look at movies that have had at least 1000 ratings."
     ]
    },
    {
     "cell_type": "code",
     "collapsed": false,
     "input": [
      "high_index = number_and_mean['size'] > 1000\n",
      "print high_index.head()"
     ],
     "language": "python",
     "metadata": {},
     "outputs": [
      {
       "output_type": "stream",
       "stream": "stdout",
       "text": [
        "title\n",
        "$1,000,000 Duck (1971)           False\n",
        "'Night Mother (1986)             False\n",
        "'Til There Was You (1997)        False\n",
        "'burbs, The (1989)               False\n",
        "...And Justice for All (1979)    False\n",
        "Name: size\n"
       ]
      }
     ],
     "prompt_number": 16
    },
    {
     "cell_type": "code",
     "collapsed": false,
     "input": [
      "print number_and_mean[high_index].head()"
     ],
     "language": "python",
     "metadata": {},
     "outputs": [
      {
       "output_type": "stream",
       "stream": "stdout",
       "text": [
        "                              size      mean\n",
        "title                                       \n",
        "2001: A Space Odyssey (1968)  1716  4.068765\n",
        "Abyss, The (1989)             1715  3.683965\n",
        "African Queen, The (1951)     1057  4.251656\n",
        "Air Force One (1997)          1076  3.588290\n",
        "Airplane! (1980)              1731  3.971115\n"
       ]
      }
     ],
     "prompt_number": 17
    },
    {
     "cell_type": "code",
     "collapsed": false,
     "input": [
      "print number_and_mean[high_index].sort_index(by='mean', \n",
      "      ascending=False).head(5)"
     ],
     "language": "python",
     "metadata": {},
     "outputs": [
      {
       "output_type": "stream",
       "stream": "stdout",
       "text": [
        "                                  size      mean\n",
        "title                                           \n",
        "Shawshank Redemption, The (1994)  2227  4.554558\n",
        "Godfather, The (1972)             2223  4.524966\n",
        "Usual Suspects, The (1995)        1783  4.517106\n",
        "Schindler's List (1993)           2304  4.510417\n",
        "Raiders of the Lost Ark (1981)    2514  4.477725\n"
       ]
      }
     ],
     "prompt_number": 18
    },
    {
     "cell_type": "markdown",
     "metadata": {},
     "source": [
      "###Pivot Tables\n",
      "\n",
      "We would like to creat another data frame of our data that contains mean ratings with movie totals as row lables and gender as colunm lables."
     ]
    },
    {
     "cell_type": "code",
     "collapsed": false,
     "input": [
      "mean_ratings = data.pivot_table('rating', rows='title', cols='gender', \n",
      "               aggfunc='mean')\n",
      "mean_ratings = mean_ratings.dropna()\n",
      "print mean_ratings.head(10)"
     ],
     "language": "python",
     "metadata": {},
     "outputs": [
      {
       "output_type": "stream",
       "stream": "stdout",
       "text": [
        "gender                                    F         M\n",
        "title                                                \n",
        "$1,000,000 Duck (1971)             3.375000  2.761905\n",
        "'Night Mother (1986)               3.388889  3.352941\n",
        "'Til There Was You (1997)          2.675676  2.733333\n",
        "'burbs, The (1989)                 2.793478  2.962085\n",
        "...And Justice for All (1979)      3.828571  3.689024\n",
        "1-900 (1994)                       2.000000  3.000000\n",
        "10 Things I Hate About You (1999)  3.646552  3.311966\n",
        "101 Dalmatians (1961)              3.791444  3.500000\n",
        "101 Dalmatians (1996)              3.240000  2.911215\n",
        "12 Angry Men (1957)                4.184397  4.328421\n"
       ]
      }
     ],
     "prompt_number": 21
    },
    {
     "cell_type": "code",
     "collapsed": false,
     "input": [
      "mean_ratings = mean_ratings.ix[high_index]"
     ],
     "language": "python",
     "metadata": {},
     "outputs": []
    },
    {
     "cell_type": "markdown",
     "metadata": {},
     "source": [
      "What are the top rated movies by women?"
     ]
    },
    {
     "cell_type": "markdown",
     "metadata": {},
     "source": [
      "Men?"
     ]
    },
    {
     "cell_type": "code",
     "collapsed": false,
     "input": [],
     "language": "python",
     "metadata": {},
     "outputs": []
    }
   ],
   "metadata": {}
  }
 ]
}