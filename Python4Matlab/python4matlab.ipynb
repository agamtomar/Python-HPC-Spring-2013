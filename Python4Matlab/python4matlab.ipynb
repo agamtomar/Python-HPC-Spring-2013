{
 "metadata": {
  "css": [
   ""
  ],
  "name": "",
  "signature": "sha256:b07b6ceb18c7315dafa6b9463a3b825be65a36765a0adccc4b21e876ad3decbd"
 },
 "nbformat": 3,
 "nbformat_minor": 0,
 "worksheets": [
  {
   "cells": [
    {
     "cell_type": "markdown",
     "metadata": {
      "slideshow": {
       "slide_type": "slide"
      }
     },
     "source": [
      "# Python for matlab users \n",
      "\n",
      "Thomas Hauser (thomas.hauser@colorado.edu)\n",
      "\n",
      "Monte Lunacek (monte.lunacek@colorado.edu)\n",
      "\n",
      "## Outline of the tutorial\n",
      "\n",
      "* 1st hour\n",
      "    * ipython: Python for interactive work (10 mins) - Monte\n",
      "    * Notebook (10 mins) - Monte\n",
      "    * Quick overview over python (20 mins) - Monte\n",
      "    * Lab - 10 minute\n",
      "    * Break (10 mins)\n",
      "* 1st hour    \n",
      "    * Numpy (20 mins) - Thomas\n",
      "    * Plotting with python (10 mins) - Thomas\n",
      "    * 10 Minute lab - Thomas\n",
      "    * Data analysis with python (20 mins) - Monte\n"
     ]
    },
    {
     "cell_type": "markdown",
     "metadata": {
      "slideshow": {
       "slide_type": "slide"
      }
     },
     "source": [
      "#Plotting using Python's matplotlib\n",
      "\n",
      "adapted from tutorial by Mike Schmidt (MTS@Colorado.EDU)\n",
      "\n",
      "MatPlotLib library [matplotlib](http://matplotlib.org).\n",
      "\n",
      "You can use *matplotlib.pylab*. This is equivalent to the the following below:"
     ]
    },
    {
     "cell_type": "code",
     "collapsed": false,
     "input": [
      "import matplotlib.pyplot as plt\n",
      "import numpy as np"
     ],
     "language": "python",
     "metadata": {},
     "outputs": [],
     "prompt_number": 7
    },
    {
     "cell_type": "markdown",
     "metadata": {
      "slideshow": {
       "slide_type": "subslide"
      }
     },
     "source": [
      "Creating some random data"
     ]
    },
    {
     "cell_type": "code",
     "collapsed": false,
     "input": [
      "mu, sigma = 100, 15\n",
      "x = mu + sigma * np.random.randn(100)\n",
      "print x"
     ],
     "language": "python",
     "metadata": {},
     "outputs": [
      {
       "output_type": "stream",
       "stream": "stdout",
       "text": [
        "[  95.56899443  110.15869544   72.77882395   86.82383484  112.38173471\n",
        "  107.59489508   75.20752002  105.02126509  135.39823708   86.29234278\n",
        "  107.32131235  101.75348374   96.8017358    95.36485394  116.19827245\n",
        "  106.9902991   111.76607216  100.48622114  112.17658618   93.92836264\n",
        "  100.210745     93.52039453   92.5418914    89.29172009   83.83187871\n",
        "   89.80245549  115.61811522  111.75666439  124.00027958   90.33044618\n",
        "   89.89212791  101.7555218   116.35446402  118.59575649  110.50522302\n",
        "   84.57971442  116.52863085  105.372224    118.15764642   83.15999102\n",
        "  115.07374196   96.0635673   112.09841201  100.92508127  108.52182091\n",
        "   97.03967831  112.4475451    80.61307058  110.1072417   118.92527529\n",
        "  105.6844042    95.28408517   99.23030313  112.10512788  104.70776378\n",
        "   81.91961345  100.34876128   79.97984067   88.01283081  104.06625579\n",
        "   94.24039703  115.28935099  109.07358787  113.26954564  109.51219242\n",
        "   95.772612     90.20404554  104.23428225   84.27168724  111.29384293\n",
        "   88.3705356   121.43397282  100.78153818  129.83015642  102.43664502\n",
        "   89.84166167  104.25648296   98.98850065  102.42161458   93.6097908\n",
        "   99.27730235  105.17702141  120.72125367  109.52668313  107.59693668\n",
        "  118.65700774  113.94720578  120.63814372   78.92376096   82.31074467\n",
        "  109.60588199   96.65235289   95.93058614   91.2162217    91.24368408\n",
        "   78.81388375  108.55557096  103.45414422   81.19221876  102.0093359 ]\n"
       ]
      }
     ],
     "prompt_number": 8
    },
    {
     "cell_type": "heading",
     "level": 2,
     "metadata": {},
     "source": [
      "Simple line plot"
     ]
    },
    {
     "cell_type": "code",
     "collapsed": false,
     "input": [
      "plt.plot(x,'-bs')"
     ],
     "language": "python",
     "metadata": {},
     "outputs": [
      {
       "metadata": {},
       "output_type": "pyout",
       "prompt_number": 9,
       "text": [
        "[<matplotlib.lines.Line2D at 0x1092bd150>]"
       ]
      }
     ],
     "prompt_number": 9
    },
    {
     "cell_type": "markdown",
     "metadata": {
      "slideshow": {
       "slide_type": "subslide"
      }
     },
     "source": [
      "** Same with same text"
     ]
    },
    {
     "cell_type": "code",
     "collapsed": false,
     "input": [
      "plt.plot(x, 'rs')\n",
      "plt.xlabel('Smarts')\n",
      "plt.ylabel('Probablity')\n",
      "plt.title('Histogram of IQ')\n",
      "plt.text(10,135, r'$\\mu=100,\\ \\sigma=15$')\n",
      "plt.grid(True)\n"
     ],
     "language": "python",
     "metadata": {},
     "outputs": [],
     "prompt_number": 6
    },
    {
     "cell_type": "code",
     "collapsed": false,
     "input": [],
     "language": "python",
     "metadata": {},
     "outputs": [],
     "prompt_number": 4
    }
   ],
   "metadata": {}
  }
 ]
}