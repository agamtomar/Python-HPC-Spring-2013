{
 "metadata": {
  "name": "python4matlab"
 },
 "nbformat": 3,
 "nbformat_minor": 0,
 "worksheets": [
  {
   "cells": [
    {
     "cell_type": "markdown",
     "metadata": {
      "slideshow": {
       "slide_type": "slide"
      }
     },
     "source": [
      "# Python for matlab users \n",
      "\n",
      "Thomas Hauser (thomas.hauser@colorado.edu)\n",
      "\n",
      "Monte Lunacek (monte.lunacek@colorado.edu)\n",
      "\n",
      "## Outline of the tutorial\n",
      "\n",
      "* 1st hour\n",
      "    * ipython: Python for interactive work (10 mins) - Monte\n",
      "    * Notebook (10 mins) - Monte\n",
      "    * Quick overview over python (20 mins) - Monte\n",
      "    * Lab - 10 minute\n",
      "    * Break (10 mins)\n",
      "* 1st hour    \n",
      "    * Numpy (20 mins) - Thomas\n",
      "    * Plotting with python (10 mins) - Thomas\n",
      "    * 10 Minute lab - Thomas\n",
      "    * Data analysis with python (20 mins) - Monte\n"
     ]
    }
   ],
   "metadata": {}
  }
 ]
}