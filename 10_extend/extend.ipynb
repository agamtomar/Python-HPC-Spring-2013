{
 "metadata": {
  "name": "extend"
 },
 "nbformat": 3,
 "nbformat_minor": 0,
 "worksheets": [
  {
   "cells": [
    {
     "cell_type": "markdown",
     "metadata": {
      "slideshow": {
       "slide_type": "slide"
      }
     },
     "source": [
      "# Extending Python using C and Fortran\n",
      "\n",
      "## Speeding up your code\n",
      "\n",
      "Thomas Hauser (thomas.hauser@colorado.edu)\n"
     ]
    },
    {
     "cell_type": "markdown",
     "metadata": {
      "slideshow": {
       "slide_type": "slide"
      }
     },
     "source": [
      "## Solving the Laplace's equation on 2-d rectangular grid\n",
      "$\\nabla^2 u = 0$ given some fixed boundary conditions.\n",
      "\n",
      "http://technicaldiscovery.blogspot.com/2011/06/speeding-up-python-numpy-cython-and.html"
     ]
    },
    {
     "cell_type": "markdown",
     "metadata": {
      "slideshow": {
       "slide_type": "slide"
      }
     },
     "source": [
      "## Pure Python implementation"
     ]
    },
    {
     "cell_type": "code",
     "collapsed": false,
     "input": [
      "from matplotlib import pyplot as P\n",
      "from numpy import zeros\n",
      "from cProfile import run\n",
      "from pstats import Stats\n",
      "\n",
      "def py_update(u):\n",
      "    nx, ny = u.shape\n",
      "    for i in xrange(1,nx-1):\n",
      "        for j in xrange(1, ny-1):\n",
      "            u[i,j] = ((u[i+1, j] + u[i-1, j]) * dy2 +\n",
      "                      (u[i, j+1] + u[i, j-1]) * dx2) / (2*(dx2+dy2))\n"
     ],
     "language": "python",
     "metadata": {
      "slideshow": {
       "slide_type": "subslide"
      }
     },
     "outputs": [],
     "prompt_number": 1
    },
    {
     "cell_type": "code",
     "collapsed": false,
     "input": [
      "def calc(N, Niter=100, func=py_update, args=()):\n",
      "    u = zeros([N, N])\n",
      "    u[0] = 1\n",
      "    for i in range(Niter):\n",
      "        func(u,*args)\n",
      "    return u"
     ],
     "language": "python",
     "metadata": {
      "slideshow": {
       "slide_type": "subslide"
      }
     },
     "outputs": [],
     "prompt_number": 2
    },
    {
     "cell_type": "code",
     "collapsed": false,
     "input": [
      "dx = 0.1\n",
      "dy = 0.1\n",
      "dx2 = dx*dx\n",
      "dy2 = dy*dy\n",
      "n = 100\n",
      "niter=300\n",
      "profile = '01_purePython_profile.dat'"
     ],
     "language": "python",
     "metadata": {
      "slideshow": {
       "slide_type": "subslide"
      }
     },
     "outputs": [],
     "prompt_number": 3
    },
    {
     "cell_type": "code",
     "collapsed": false,
     "input": [
      "run('u = calc(n, Niter=niter)', profile)\n",
      "\n",
      "cp = P.contourf(u)\n",
      "cbar = P.colorbar()\n",
      "P.show()\n",
      "\n",
      "p = Stats(profile)\n",
      "p.sort_stats('cumulative').print_stats(10)"
     ],
     "language": "python",
     "metadata": {
      "slideshow": {
       "slide_type": "subslide"
      }
     },
     "outputs": [
      {
       "output_type": "stream",
       "stream": "stdout",
       "text": [
        "Thu May  9 08:37:09 2013    01_purePython_profile.dat\n",
        "\n",
        "         305 function calls in 18.849 seconds\n",
        "\n",
        "   Ordered by: cumulative time\n",
        "\n",
        "   ncalls  tottime  percall  cumtime  percall filename:lineno(function)\n",
        "        1    0.000    0.000   18.849   18.849 <string>:1(<module>)\n",
        "        1    0.031    0.031   18.849   18.849 <ipython-input-2-03afc6e92ae6>:1(calc)\n",
        "      300   18.818    0.063   18.818    0.063 <ipython-input-1-63c7e446c238>:6(py_update)\n",
        "        1    0.000    0.000    0.000    0.000 {numpy.core.multiarray.zeros}\n",
        "        1    0.000    0.000    0.000    0.000 {range}\n",
        "        1    0.000    0.000    0.000    0.000 {method 'disable' of '_lsprof.Profiler' objects}\n",
        "\n",
        "\n"
       ]
      },
      {
       "output_type": "pyout",
       "prompt_number": 4,
       "text": [
        "<pstats.Stats instance at 0x10dab7cb0>"
       ]
      }
     ],
     "prompt_number": 4
    },
    {
     "cell_type": "markdown",
     "metadata": {
      "slideshow": {
       "slide_type": "slide"
      }
     },
     "source": [
      "## Numpy implementation"
     ]
    },
    {
     "cell_type": "code",
     "collapsed": false,
     "input": [
      "def numpy_update(u):\n",
      "    u[1:-1,1:-1] = ((u[2:,1:-1]+u[:-2,1:-1])*dy2 + \n",
      "                    (u[1:-1,2:] + u[1:-1,:-2])*dx2) / (2*(dx2+dy2))"
     ],
     "language": "python",
     "metadata": {},
     "outputs": [],
     "prompt_number": 5
    },
    {
     "cell_type": "code",
     "collapsed": false,
     "input": [
      "profile = '02_numpy_profile.dat'"
     ],
     "language": "python",
     "metadata": {},
     "outputs": [],
     "prompt_number": 6
    },
    {
     "cell_type": "code",
     "collapsed": false,
     "input": [
      "run('u = calc(n, Niter=niter, func=numpy_update)', profile)\n",
      "\n",
      "cp = P.contourf(u)\n",
      "cbar = P.colorbar()\n",
      "P.show()\n",
      "\n",
      "p = Stats(profile)\n",
      "p.sort_stats('cumulative').print_stats(10)"
     ],
     "language": "python",
     "metadata": {},
     "outputs": [
      {
       "output_type": "stream",
       "stream": "stdout",
       "text": [
        "Thu May  9 08:39:45 2013    02_numpy_profile.dat\n",
        "\n",
        "         305 function calls in 0.058 seconds\n",
        "\n",
        "   Ordered by: cumulative time\n",
        "\n",
        "   ncalls  tottime  percall  cumtime  percall filename:lineno(function)\n",
        "        1    0.000    0.000    0.058    0.058 <string>:1(<module>)\n",
        "        1    0.000    0.000    0.058    0.058 <ipython-input-2-03afc6e92ae6>:1(calc)\n",
        "      300    0.057    0.000    0.057    0.000 <ipython-input-5-b22e1793979e>:1(numpy_update)\n",
        "        1    0.000    0.000    0.000    0.000 {numpy.core.multiarray.zeros}\n",
        "        1    0.000    0.000    0.000    0.000 {range}\n",
        "        1    0.000    0.000    0.000    0.000 {method 'disable' of '_lsprof.Profiler' objects}\n",
        "\n",
        "\n"
       ]
      },
      {
       "output_type": "pyout",
       "prompt_number": 7,
       "text": [
        "<pstats.Stats instance at 0x1101e7560>"
       ]
      }
     ],
     "prompt_number": 7
    },
    {
     "cell_type": "markdown",
     "metadata": {
      "slideshow": {
       "slide_type": "slide"
      }
     },
     "source": [
      "## Using Cython\n",
      "\n",
      "Cython is an extension-module writing language that looks a lot like Python except for optional type declarations for variables.  These type declarations allow the Cython compiler to replace generic, highly dynamic Python code with specific and very fast compiled code that is then able to be loaded into the Python run-time dynamically."
     ]
    },
    {
     "cell_type": "markdown",
     "metadata": {
      "slideshow": {
       "slide_type": "slide"
      }
     },
     "source": [
      "### Cython function of updating u\n",
      "\n",
      "This needs to go into a .pyx file\n",
      "\n",
      "03_cython_update.pyx"
     ]
    },
    {
     "cell_type": "raw",
     "metadata": {},
     "source": [
      "cimport numpy as np\n",
      "\n",
      "def cy_update(np.ndarray[double, ndim=2] u, double dx2, double dy2):\n",
      "    cdef unsigned int i, j\n",
      "    for i in xrange(1,u.shape[0]-1):\n",
      "        for j in xrange(1, u.shape[1]-1):\n",
      "            u[i,j] = ((u[i+1, j] + u[i-1, j]) * dy2 +\n",
      "                      (u[i, j+1] + u[i, j-1]) * dx2) / (2*(dx2+dy2))"
     ]
    },
    {
     "cell_type": "markdown",
     "metadata": {
      "slideshow": {
       "slide_type": "slide"
      }
     },
     "source": [
      "### Using Cython"
     ]
    },
    {
     "cell_type": "code",
     "collapsed": false,
     "input": [
      "from cyupdate import cy_update\n",
      "\n",
      "dx2 = dx*dx\n",
      "dy2 = dy*dy\n",
      "\n",
      "profile = '03_cython_profile.dat'\n",
      "\n",
      "run('u = calc(n, Niter=niter, func=cy_update, args=(dx2, dy2))', profile)\n",
      "\n",
      "cp = P.contourf(u)\n",
      "cbar = P.colorbar()\n",
      "P.show()\n",
      "\n",
      "p = Stats(profile)\n",
      "p.sort_stats('cumulative').print_stats(10)"
     ],
     "language": "python",
     "metadata": {
      "slideshow": {
       "slide_type": "-"
      }
     },
     "outputs": [
      {
       "output_type": "stream",
       "stream": "stdout",
       "text": [
        "Thu May  9 08:59:18 2013    03_cython_profile.dat\n",
        "\n",
        "         305 function calls in 0.049 seconds\n",
        "\n",
        "   Ordered by: cumulative time\n",
        "\n",
        "   ncalls  tottime  percall  cumtime  percall filename:lineno(function)\n",
        "        1    0.000    0.000    0.049    0.049 <string>:1(<module>)\n",
        "        1    0.000    0.000    0.049    0.049 <ipython-input-2-03afc6e92ae6>:1(calc)\n",
        "      300    0.049    0.000    0.049    0.000 {cyupdate.cy_update}\n",
        "        1    0.000    0.000    0.000    0.000 {numpy.core.multiarray.zeros}\n",
        "        1    0.000    0.000    0.000    0.000 {range}\n",
        "        1    0.000    0.000    0.000    0.000 {method 'disable' of '_lsprof.Profiler' objects}\n",
        "\n",
        "\n"
       ]
      },
      {
       "output_type": "pyout",
       "prompt_number": 9,
       "text": [
        "<pstats.Stats instance at 0x10dab91b8>"
       ]
      }
     ],
     "prompt_number": 9
    },
    {
     "cell_type": "markdown",
     "metadata": {
      "slideshow": {
       "slide_type": "slide"
      }
     },
     "source": [
      "### Building the Cython extension\n",
      "\n",
      "Create a file \"setup.py\""
     ]
    },
    {
     "cell_type": "code",
     "collapsed": false,
     "input": [
      "from distutils.core import setup\n",
      "from distutils.extension import Extension\n",
      "from Cython.Distutils import build_ext\n",
      "\n",
      "import numpy\n",
      "\n",
      "extcython = Extension(\"cyupdate\", [\"03_cython_update.pyx\"],\n",
      "    include_dirs = [numpy.get_include()])"
     ],
     "language": "python",
     "metadata": {},
     "outputs": [],
     "prompt_number": 10
    },
    {
     "cell_type": "code",
     "collapsed": false,
     "input": [
      "!python setup.py build_ext --inplace"
     ],
     "language": "python",
     "metadata": {},
     "outputs": [
      {
       "output_type": "stream",
       "stream": "stdout",
       "text": [
        "running build_ext\r\n"
       ]
      },
      {
       "output_type": "stream",
       "stream": "stdout",
       "text": [
        "skipping '03_cython_update.c' Cython extension (up-to-date)\r\n",
        "skipping '04_cythonfast_update.c' Cython extension (up-to-date)\r\n"
       ]
      },
      {
       "output_type": "stream",
       "stream": "stdout",
       "text": [
        "\u001b[39mrunning build_ext\u001b[0m\r\n"
       ]
      },
      {
       "output_type": "stream",
       "stream": "stdout",
       "text": [
        "\u001b[39mrunning build_src\u001b[0m\r\n",
        "\u001b[39mbuild_src\u001b[0m\r\n",
        "\u001b[39mbuilding extension \"f2py_update\" sources\u001b[0m\r\n",
        "\u001b[39mf2py options: []\u001b[0m\r\n",
        "\u001b[39m  adding 'build/src.macosx-10.6-x86_64-2.7/fortranobject.c' to sources.\u001b[0m\r\n",
        "\u001b[39m  adding 'build/src.macosx-10.6-x86_64-2.7' to include_dirs.\u001b[0m\r\n"
       ]
      },
      {
       "output_type": "stream",
       "stream": "stdout",
       "text": [
        "\u001b[39mbuild_src: building npy-pkg config files\u001b[0m\r\n",
        "\u001b[39mcustomize UnixCCompiler\u001b[0m\r\n",
        "\u001b[39mcustomize UnixCCompiler using build_ext\u001b[0m\r\n"
       ]
      },
      {
       "output_type": "stream",
       "stream": "stdout",
       "text": [
        "\u001b[39mcustomize NAGFCompiler\u001b[0m\r\n",
        "\u001b[32mFound executable /opt/local/bin/gfortran-mp-4.6\u001b[0m\r\n"
       ]
      },
      {
       "output_type": "stream",
       "stream": "stdout",
       "text": [
        "\u001b[39mcustomize AbsoftFCompiler\u001b[0m\r\n",
        "\u001b[39mcustomize IBMFCompiler\u001b[0m\r\n"
       ]
      },
      {
       "output_type": "stream",
       "stream": "stdout",
       "text": [
        "\u001b[31mCould not locate executable xlf95\u001b[0m\r\n",
        "\u001b[39mcustomize IntelFCompiler\u001b[0m\r\n"
       ]
      },
      {
       "output_type": "stream",
       "stream": "stdout",
       "text": [
        "\u001b[31mCould not locate executable ifort\u001b[0m\r\n",
        "\u001b[31mCould not locate executable ifc\u001b[0m\r\n",
        "\u001b[39mcustomize GnuFCompiler\u001b[0m\r\n",
        "\u001b[31mgnu: no Fortran 90 compiler found\u001b[0m\r\n"
       ]
      },
      {
       "output_type": "stream",
       "stream": "stdout",
       "text": [
        "\u001b[31mCould not locate executable g77\u001b[0m\r\n",
        "\u001b[31mCould not locate executable f77\u001b[0m\r\n",
        "\u001b[31mgnu: no Fortran 90 compiler found\u001b[0m\r\n",
        "\u001b[39mcustomize Gnu95FCompiler\u001b[0m\r\n"
       ]
      },
      {
       "output_type": "stream",
       "stream": "stdout",
       "text": [
        "\u001b[31mCould not locate executable gfortran\u001b[0m\r\n",
        "\u001b[31mCould not locate executable f95\u001b[0m\r\n"
       ]
      },
      {
       "output_type": "stream",
       "stream": "stdout",
       "text": [
        "\u001b[39mcustomize Gnu95FCompiler\u001b[0m\r\n"
       ]
      },
      {
       "output_type": "stream",
       "stream": "stdout",
       "text": [
        "\u001b[39mcustomize Gnu95FCompiler using build_ext\u001b[0m\r\n",
        "\u001b[39mrunning scons\u001b[0m\r\n"
       ]
      }
     ],
     "prompt_number": 11
    },
    {
     "cell_type": "markdown",
     "metadata": {
      "slideshow": {
       "slide_type": "slide"
      }
     },
     "source": [
      "## Using Fortran to extend python\n",
      "\n",
      "Fortran90 code for update u"
     ]
    },
    {
     "cell_type": "raw",
     "metadata": {},
     "source": [
      "! fortran 90 update\n",
      "\n",
      "subroutine f2py_update90(np, u, dx2, dy2)\n",
      "    integer, intent(in) :: np\n",
      "    double precision, intent(inout) :: u(0:np-1, 0:np-1)\n",
      "    double precision, intent(in) :: dx2, dy2\n",
      "!f2py intent(in) :: dx2, dy2\n",
      "!f2py intent(in, out) :: u\n",
      "!f2py intent(hide) :: np\n",
      "\n",
      "    double precision :: dnr_inv\n",
      "    \n",
      "    dnr_inv = 0.5d0 / (dx2 + dy2)\n",
      "    \n",
      "    u(1:np-2, 1:np-2) = ((u(0:np-3, 1:np-2) + u(2:np-1, 1:np-2)) * dy2 + (u(1:np-2, 0:np-3) + u(1:np-2, 2:np-1)) * dx2) * dnr_inv\n",
      "end subroutine f2py_update90         "
     ]
    },
    {
     "cell_type": "code",
     "collapsed": false,
     "input": [
      "from numpy import zeros, asfortranarray\n",
      "from f2py_update import f2py_update90\n",
      "\n",
      "def calc(N, Niter=100, func=f2py_update90, args=(dx2, dy2)):\n",
      "    u = zeros([N, N])\n",
      "    u[0] = 1.0\n",
      "    u = asfortranarray(u)\n",
      "    for i in range(Niter):\n",
      "        func(u,*args)\n",
      "    return u\n",
      "\n",
      "profile = '05_f2py_profile.dat'\n",
      "\n",
      "run('u = calc(n, Niter=niter, func=f2py_update90, args=(dx2, dy2))', profile)\n",
      "\n",
      "cp = P.contourf(u)\n",
      "cbar = P.colorbar()\n",
      "P.show()\n",
      "\n",
      "p = Stats(profile)\n",
      "p.sort_stats('cumulative').print_stats(10)"
     ],
     "language": "python",
     "metadata": {},
     "outputs": [
      {
       "output_type": "stream",
       "stream": "stdout",
       "text": [
        "Thu May  9 09:13:04 2013    05_f2py_profile.dat\n",
        "\n",
        "         7 function calls in 0.005 seconds\n",
        "\n",
        "   Ordered by: cumulative time\n",
        "\n",
        "   ncalls  tottime  percall  cumtime  percall filename:lineno(function)\n",
        "        1    0.000    0.000    0.005    0.005 <string>:1(<module>)\n",
        "        1    0.005    0.005    0.005    0.005 <ipython-input-14-62a8867b4a26>:4(calc)\n",
        "        1    0.000    0.000    0.000    0.000 /Users/tom/Library/Enthought/Canopy_64bit/User/lib/python2.7/site-packages/numpy/core/numeric.py:325(asfortranarray)\n",
        "        1    0.000    0.000    0.000    0.000 {numpy.core.multiarray.array}\n",
        "        1    0.000    0.000    0.000    0.000 {numpy.core.multiarray.zeros}\n",
        "        1    0.000    0.000    0.000    0.000 {range}\n",
        "        1    0.000    0.000    0.000    0.000 {method 'disable' of '_lsprof.Profiler' objects}\n",
        "\n",
        "\n"
       ]
      },
      {
       "output_type": "pyout",
       "prompt_number": 14,
       "text": [
        "<pstats.Stats instance at 0x10fe21320>"
       ]
      }
     ],
     "prompt_number": 14
    },
    {
     "cell_type": "markdown",
     "metadata": {},
     "source": [
      "### Configuring the fortran extension build\n",
      "\n",
      "setup.py"
     ]
    },
    {
     "cell_type": "raw",
     "metadata": {},
     "source": [
      "from numpy.distutils.core import setup, Extension        \n",
      "setup(\n",
      "  ext_modules = [Extension( 'f2py_update', ['05_f2py_update.f90'] )],\n",
      ")"
     ]
    },
    {
     "cell_type": "markdown",
     "metadata": {},
     "source": [
      "### Selecting the fortran compiler\n",
      "\n",
      "Using setup.cfg\n",
      "\n"
     ]
    },
    {
     "cell_type": "raw",
     "metadata": {},
     "source": [
      "[config_fc]\n",
      "fcompiler=gfortran\n",
      "f77exec=/opt/local/bin/gfortran-mp-4.6\n",
      "f90exec=/opt/local/bin/gfortran-mp-4.6"
     ]
    },
    {
     "cell_type": "markdown",
     "metadata": {},
     "source": [
      "### Building the extensions"
     ]
    },
    {
     "cell_type": "code",
     "collapsed": false,
     "input": [
      "!rm *.so\n",
      "!python setup.py build_ext --inplace"
     ],
     "language": "python",
     "metadata": {},
     "outputs": [
      {
       "output_type": "stream",
       "stream": "stdout",
       "text": [
        "running build_ext\r\n"
       ]
      },
      {
       "output_type": "stream",
       "stream": "stdout",
       "text": [
        "skipping '03_cython_update.c' Cython extension (up-to-date)\r\n"
       ]
      },
      {
       "output_type": "stream",
       "stream": "stdout",
       "text": [
        "building 'cyupdate' extension\r\n",
        "gcc -fno-strict-aliasing -fno-common -dynamic -arch x86_64 -DNDEBUG -g -O3 -arch x86_64 -I/Users/tom/Library/Enthought/Canopy_64bit/User/lib/python2.7/site-packages/numpy/core/include -I/Applications/Canopy.app/appdata/canopy-1.0.0.1160.macosx-x86_64/Canopy.app/Contents/include/python2.7 -c 03_cython_update.c -o build/temp.macosx-10.6-x86_64-2.7/03_cython_update.o\r\n"
       ]
      },
      {
       "output_type": "stream",
       "stream": "stdout",
       "text": [
        "gcc -bundle -undefined dynamic_lookup -g -arch x86_64 -headerpad_max_install_names -arch x86_64 build/temp.macosx-10.6-x86_64-2.7/03_cython_update.o -o /Users/tom/GitHub/python_hpc/10_extend/cyupdate.so\r\n"
       ]
      },
      {
       "output_type": "stream",
       "stream": "stdout",
       "text": [
        "skipping '04_cythonfast_update.c' Cython extension (up-to-date)\r\n",
        "building 'cyupdate_fast' extension\r\n",
        "gcc -fno-strict-aliasing -fno-common -dynamic -arch x86_64 -DNDEBUG -g -O3 -arch x86_64 -I/Users/tom/Library/Enthought/Canopy_64bit/User/lib/python2.7/site-packages/numpy/core/include -I/Applications/Canopy.app/appdata/canopy-1.0.0.1160.macosx-x86_64/Canopy.app/Contents/include/python2.7 -c 04_cythonfast_update.c -o build/temp.macosx-10.6-x86_64-2.7/04_cythonfast_update.o\r\n"
       ]
      },
      {
       "output_type": "stream",
       "stream": "stdout",
       "text": [
        "gcc -bundle -undefined dynamic_lookup -g -arch x86_64 -headerpad_max_install_names -arch x86_64 build/temp.macosx-10.6-x86_64-2.7/04_cythonfast_update.o -o /Users/tom/GitHub/python_hpc/10_extend/cyupdate_fast.so\r\n"
       ]
      },
      {
       "output_type": "stream",
       "stream": "stdout",
       "text": [
        "\u001b[39mrunning build_ext\u001b[0m\r\n",
        "\u001b[39mrunning build_src\u001b[0m\r\n",
        "\u001b[39mbuild_src\u001b[0m\r\n",
        "\u001b[39mbuilding extension \"f2py_update\" sources\u001b[0m\r\n",
        "\u001b[39mf2py options: []\u001b[0m\r\n",
        "\u001b[39m  adding 'build/src.macosx-10.6-x86_64-2.7/fortranobject.c' to sources.\u001b[0m\r\n",
        "\u001b[39m  adding 'build/src.macosx-10.6-x86_64-2.7' to include_dirs.\u001b[0m\r\n"
       ]
      },
      {
       "output_type": "stream",
       "stream": "stdout",
       "text": [
        "\u001b[39mbuild_src: building npy-pkg config files\u001b[0m\r\n",
        "\u001b[39mcustomize UnixCCompiler\u001b[0m\r\n",
        "\u001b[39mcustomize UnixCCompiler using build_ext\u001b[0m\r\n"
       ]
      },
      {
       "output_type": "stream",
       "stream": "stdout",
       "text": [
        "\u001b[39mcustomize NAGFCompiler\u001b[0m\r\n",
        "\u001b[32mFound executable /opt/local/bin/gfortran-mp-4.6\u001b[0m\r\n"
       ]
      },
      {
       "output_type": "stream",
       "stream": "stdout",
       "text": [
        "\u001b[39mcustomize AbsoftFCompiler\u001b[0m\r\n"
       ]
      },
      {
       "output_type": "stream",
       "stream": "stdout",
       "text": [
        "\u001b[39mcustomize IBMFCompiler\u001b[0m\r\n",
        "\u001b[31mCould not locate executable xlf95\u001b[0m\r\n",
        "\u001b[39mcustomize IntelFCompiler\u001b[0m\r\n",
        "\u001b[31mCould not locate executable ifort\u001b[0m\r\n",
        "\u001b[31mCould not locate executable ifc\u001b[0m\r\n",
        "\u001b[39mcustomize GnuFCompiler\u001b[0m\r\n",
        "\u001b[31mgnu: no Fortran 90 compiler found\u001b[0m\r\n",
        "\u001b[31mCould not locate executable g77\u001b[0m\r\n",
        "\u001b[31mCould not locate executable f77\u001b[0m\r\n",
        "\u001b[31mgnu: no Fortran 90 compiler found\u001b[0m\r\n",
        "\u001b[39mcustomize Gnu95FCompiler\u001b[0m\r\n",
        "\u001b[31mCould not locate executable gfortran\u001b[0m\r\n",
        "\u001b[31mCould not locate executable f95\u001b[0m\r\n"
       ]
      },
      {
       "output_type": "stream",
       "stream": "stdout",
       "text": [
        "\u001b[39mcustomize Gnu95FCompiler\u001b[0m\r\n",
        "\u001b[39mcustomize Gnu95FCompiler using build_ext\u001b[0m\r\n",
        "\u001b[39mbuilding 'f2py_update' extension\u001b[0m\r\n",
        "\u001b[39mcompiling C sources\u001b[0m\r\n",
        "\u001b[39mC compiler: gcc -fno-strict-aliasing -fno-common -dynamic -arch x86_64 -DNDEBUG -g -O3 -arch x86_64\r\n",
        "\u001b[0m\r\n",
        "\u001b[39mcompile options: '-Ibuild/src.macosx-10.6-x86_64-2.7 -I/Users/tom/Library/Enthought/Canopy_64bit/User/lib/python2.7/site-packages/numpy/core/include -I/Applications/Canopy.app/appdata/canopy-1.0.0.1160.macosx-x86_64/Canopy.app/Contents/include/python2.7 -c'\u001b[0m\r\n",
        "\u001b[39mgcc: build/src.macosx-10.6-x86_64-2.7/fortranobject.c\u001b[0m\r\n"
       ]
      },
      {
       "output_type": "stream",
       "stream": "stdout",
       "text": [
        "\u001b[39mgcc: build/src.macosx-10.6-x86_64-2.7/f2py_updatemodule.c\u001b[0m\r\n"
       ]
      },
      {
       "output_type": "stream",
       "stream": "stdout",
       "text": [
        "\u001b[39mcompiling Fortran sources\u001b[0m\r\n",
        "\u001b[39mFortran f77 compiler: /opt/local/bin/gfortran-mp-4.6 -Wall -ffixed-form -fno-second-underscore -m64 -fPIC -O3 -funroll-loops\r\n",
        "Fortran f90 compiler: /opt/local/bin/gfortran-mp-4.6 -Wall -fno-second-underscore -m64 -fPIC -O3 -funroll-loops\r\n",
        "Fortran fix compiler: /opt/local/bin/gfortran-mp-4.6 -Wall -ffixed-form -fno-second-underscore -Wall -fno-second-underscore -m64 -fPIC -O3 -funroll-loops\u001b[0m\r\n",
        "\u001b[39mcompile options: '-Ibuild/src.macosx-10.6-x86_64-2.7 -I/Users/tom/Library/Enthought/Canopy_64bit/User/lib/python2.7/site-packages/numpy/core/include -I/Applications/Canopy.app/appdata/canopy-1.0.0.1160.macosx-x86_64/Canopy.app/Contents/include/python2.7 -c'\u001b[0m\r\n",
        "\u001b[39mgfortran-mp-4.6:f90: 05_f2py_update.f90\u001b[0m\r\n"
       ]
      },
      {
       "output_type": "stream",
       "stream": "stdout",
       "text": [
        "\u001b[39m/opt/local/bin/gfortran-mp-4.6 -Wall -m64 -Wall -undefined dynamic_lookup -bundle build/temp.macosx-10.6-x86_64-2.7/build/src.macosx-10.6-x86_64-2.7/f2py_updatemodule.o build/temp.macosx-10.6-x86_64-2.7/build/src.macosx-10.6-x86_64-2.7/fortranobject.o build/temp.macosx-10.6-x86_64-2.7/05_f2py_update.o -L/opt/local/lib/gcc46/gcc/x86_64-apple-darwin12/4.6.4 -lgfortran -o f2py_update.so\u001b[0m\r\n"
       ]
      },
      {
       "output_type": "stream",
       "stream": "stdout",
       "text": [
        "\u001b[39mrunning scons\u001b[0m\r\n"
       ]
      }
     ],
     "prompt_number": 15
    },
    {
     "cell_type": "code",
     "collapsed": false,
     "input": [
      "!ls *.so"
     ],
     "language": "python",
     "metadata": {},
     "outputs": [
      {
       "output_type": "stream",
       "stream": "stdout",
       "text": [
        "\u001b[31mcyupdate.so\u001b[m\u001b[m      \u001b[31mcyupdate_fast.so\u001b[m\u001b[m \u001b[31mf2py_update.so\u001b[m\u001b[m\r\n"
       ]
      }
     ],
     "prompt_number": 16
    },
    {
     "cell_type": "code",
     "collapsed": false,
     "input": [],
     "language": "python",
     "metadata": {},
     "outputs": []
    }
   ],
   "metadata": {}
  }
 ]
}